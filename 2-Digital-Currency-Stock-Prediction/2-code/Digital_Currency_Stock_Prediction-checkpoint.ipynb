{
 "cells": [
  {
   "cell_type": "markdown",
   "id": "b0252997",
   "metadata": {},
   "source": [
    "### Importing Needed Libraries"
   ]
  },
  {
   "cell_type": "code",
   "execution_count": 6,
   "id": "94d1684b",
   "metadata": {
    "scrolled": true
   },
   "outputs": [],
   "source": [
    "import numpy as np\n",
    "import pandas as pd\n",
    "import seaborn as sns\n",
    "sns.set_style('whitegrid')\n",
    "import matplotlib.pyplot as plt\n",
    "plt.style.use(\"fivethirtyeight\")\n",
    "\n",
    "from keras.models import Sequential\n",
    "from keras.callbacks import EarlyStopping\n",
    "from keras.layers import Dense, LSTM, Dropout\n",
    "\n",
    "from sklearn.preprocessing import MinMaxScaler"
   ]
  },
  {
   "cell_type": "code",
   "execution_count": 5,
   "id": "6bd37dcd",
   "metadata": {},
   "outputs": [
    {
     "name": "stdout",
     "output_type": "stream",
     "text": [
      "Collecting tensorflowNote: you may need to restart the kernel to use updated packages.\n",
      "  Using cached tensorflow-2.12.0-cp38-cp38-win_amd64.whl (1.9 kB)\n",
      "Collecting tensorflow-intel==2.12.0 (from tensorflow)\n",
      "  Using cached tensorflow_intel-2.12.0-cp38-cp38-win_amd64.whl (272.8 MB)\n",
      "Collecting absl-py>=1.0.0 (from tensorflow-intel==2.12.0->tensorflow)\n",
      "  Using cached absl_py-1.4.0-py3-none-any.whl (126 kB)\n",
      "Requirement already satisfied: astunparse>=1.6.0 in c:\\users\\soleen.alkhaffaf\\anaconda3\\lib\\site-packages (from tensorflow-intel==2.12.0->tensorflow) (1.6.3)\n",
      "Requirement already satisfied: flatbuffers>=2.0 in c:\\users\\soleen.alkhaffaf\\anaconda3\\lib\\site-packages (from tensorflow-intel==2.12.0->tensorflow) (23.3.3)\n",
      "Requirement already satisfied: gast<=0.4.0,>=0.2.1 in c:\\users\\soleen.alkhaffaf\\anaconda3\\lib\\site-packages (from tensorflow-intel==2.12.0->tensorflow) (0.3.3)\n",
      "Requirement already satisfied: google-pasta>=0.1.1 in c:\\users\\soleen.alkhaffaf\\anaconda3\\lib\\site-packages (from tensorflow-intel==2.12.0->tensorflow) (0.2.0)\n",
      "Requirement already satisfied: h5py>=2.9.0 in c:\\users\\soleen.alkhaffaf\\anaconda3\\lib\\site-packages (from tensorflow-intel==2.12.0->tensorflow) (2.10.0)\n",
      "Collecting jax>=0.3.15 (from tensorflow-intel==2.12.0->tensorflow)\n",
      "  Using cached jax-0.4.8-py3-none-any.whl\n",
      "Requirement already satisfied: libclang>=13.0.0 in c:\\users\\soleen.alkhaffaf\\anaconda3\\lib\\site-packages (from tensorflow-intel==2.12.0->tensorflow) (16.0.0)\n",
      "Requirement already satisfied: numpy<1.24,>=1.22 in c:\\users\\soleen.alkhaffaf\\anaconda3\\lib\\site-packages (from tensorflow-intel==2.12.0->tensorflow) (1.23.5)\n",
      "Requirement already satisfied: opt-einsum>=2.3.2 in c:\\users\\soleen.alkhaffaf\\anaconda3\\lib\\site-packages (from tensorflow-intel==2.12.0->tensorflow) (3.3.0)\n",
      "Requirement already satisfied: packaging in c:\\users\\soleen.alkhaffaf\\anaconda3\\lib\\site-packages (from tensorflow-intel==2.12.0->tensorflow) (20.9)\n",
      "Requirement already satisfied: protobuf!=4.21.0,!=4.21.1,!=4.21.2,!=4.21.3,!=4.21.4,!=4.21.5,<5.0.0dev,>=3.20.3 in c:\\users\\soleen.alkhaffaf\\anaconda3\\lib\\site-packages (from tensorflow-intel==2.12.0->tensorflow) (4.22.3)\n",
      "Requirement already satisfied: setuptools in c:\\users\\soleen.alkhaffaf\\anaconda3\\lib\\site-packages (from tensorflow-intel==2.12.0->tensorflow) (67.7.2)\n",
      "Requirement already satisfied: six>=1.12.0 in c:\\users\\soleen.alkhaffaf\\anaconda3\\lib\\site-packages (from tensorflow-intel==2.12.0->tensorflow) (1.15.0)\n",
      "Requirement already satisfied: termcolor>=1.1.0 in c:\\users\\soleen.alkhaffaf\\anaconda3\\lib\\site-packages (from tensorflow-intel==2.12.0->tensorflow) (1.1.0)\n",
      "Requirement already satisfied: typing-extensions>=3.6.6 in c:\\users\\soleen.alkhaffaf\\anaconda3\\lib\\site-packages (from tensorflow-intel==2.12.0->tensorflow) (3.7.4.3)\n",
      "Requirement already satisfied: wrapt<1.15,>=1.11.0 in c:\\users\\soleen.alkhaffaf\\anaconda3\\lib\\site-packages (from tensorflow-intel==2.12.0->tensorflow) (1.12.1)\n",
      "Requirement already satisfied: grpcio<2.0,>=1.24.3 in c:\\users\\soleen.alkhaffaf\\anaconda3\\lib\\site-packages (from tensorflow-intel==2.12.0->tensorflow) (1.36.1)\n",
      "Collecting tensorboard<2.13,>=2.12 (from tensorflow-intel==2.12.0->tensorflow)\n",
      "  Using cached tensorboard-2.12.2-py3-none-any.whl (5.6 MB)\n",
      "Requirement already satisfied: tensorflow-estimator<2.13,>=2.12.0 in c:\\users\\soleen.alkhaffaf\\anaconda3\\lib\\site-packages (from tensorflow-intel==2.12.0->tensorflow) (2.12.0)\n",
      "Requirement already satisfied: keras<2.13,>=2.12.0 in c:\\users\\soleen.alkhaffaf\\anaconda3\\lib\\site-packages (from tensorflow-intel==2.12.0->tensorflow) (2.12.0)\n",
      "Requirement already satisfied: tensorflow-io-gcs-filesystem>=0.23.1 in c:\\users\\soleen.alkhaffaf\\anaconda3\\lib\\site-packages (from tensorflow-intel==2.12.0->tensorflow) (0.31.0)\n",
      "Requirement already satisfied: wheel<1.0,>=0.23.0 in c:\\users\\soleen.alkhaffaf\\anaconda3\\lib\\site-packages (from astunparse>=1.6.0->tensorflow-intel==2.12.0->tensorflow) (0.40.0)\n",
      "Collecting ml-dtypes>=0.0.3 (from jax>=0.3.15->tensorflow-intel==2.12.0->tensorflow)\n",
      "\n",
      "  Using cached ml_dtypes-0.1.0-cp38-cp38-win_amd64.whl (120 kB)\n",
      "Requirement already satisfied: scipy>=1.7 in c:\\users\\soleen.alkhaffaf\\anaconda3\\lib\\site-packages (from jax>=0.3.15->tensorflow-intel==2.12.0->tensorflow) (1.10.1)\n",
      "Collecting grpcio<2.0,>=1.24.3 (from tensorflow-intel==2.12.0->tensorflow)\n",
      "  Using cached grpcio-1.54.0-cp38-cp38-win_amd64.whl (4.1 MB)\n",
      "Requirement already satisfied: google-auth<3,>=1.6.3 in c:\\users\\soleen.alkhaffaf\\anaconda3\\lib\\site-packages (from tensorboard<2.13,>=2.12->tensorflow-intel==2.12.0->tensorflow) (1.21.3)\n",
      "Collecting google-auth-oauthlib<1.1,>=0.5 (from tensorboard<2.13,>=2.12->tensorflow-intel==2.12.0->tensorflow)\n",
      "  Using cached google_auth_oauthlib-1.0.0-py2.py3-none-any.whl (18 kB)\n",
      "Requirement already satisfied: markdown>=2.6.8 in c:\\users\\soleen.alkhaffaf\\anaconda3\\lib\\site-packages (from tensorboard<2.13,>=2.12->tensorflow-intel==2.12.0->tensorflow) (3.3.4)\n",
      "Requirement already satisfied: requests<3,>=2.21.0 in c:\\users\\soleen.alkhaffaf\\anaconda3\\lib\\site-packages (from tensorboard<2.13,>=2.12->tensorflow-intel==2.12.0->tensorflow) (2.25.1)\n",
      "Requirement already satisfied: tensorboard-data-server<0.8.0,>=0.7.0 in c:\\users\\soleen.alkhaffaf\\anaconda3\\lib\\site-packages (from tensorboard<2.13,>=2.12->tensorflow-intel==2.12.0->tensorflow) (0.7.0)\n",
      "Requirement already satisfied: tensorboard-plugin-wit>=1.6.0 in c:\\users\\soleen.alkhaffaf\\anaconda3\\lib\\site-packages (from tensorboard<2.13,>=2.12->tensorflow-intel==2.12.0->tensorflow) (1.6.0)\n",
      "Requirement already satisfied: werkzeug>=1.0.1 in c:\\users\\soleen.alkhaffaf\\anaconda3\\lib\\site-packages (from tensorboard<2.13,>=2.12->tensorflow-intel==2.12.0->tensorflow) (1.0.1)\n",
      "Requirement already satisfied: pyparsing>=2.0.2 in c:\\users\\soleen.alkhaffaf\\anaconda3\\lib\\site-packages (from packaging->tensorflow-intel==2.12.0->tensorflow) (2.4.7)\n",
      "Requirement already satisfied: cachetools<5.0,>=2.0.0 in c:\\users\\soleen.alkhaffaf\\anaconda3\\lib\\site-packages (from google-auth<3,>=1.6.3->tensorboard<2.13,>=2.12->tensorflow-intel==2.12.0->tensorflow) (4.2.2)\n",
      "Requirement already satisfied: pyasn1-modules>=0.2.1 in c:\\users\\soleen.alkhaffaf\\anaconda3\\lib\\site-packages (from google-auth<3,>=1.6.3->tensorboard<2.13,>=2.12->tensorflow-intel==2.12.0->tensorflow) (0.2.8)\n",
      "Requirement already satisfied: rsa<5,>=3.1.4 in c:\\users\\soleen.alkhaffaf\\anaconda3\\lib\\site-packages (from google-auth<3,>=1.6.3->tensorboard<2.13,>=2.12->tensorflow-intel==2.12.0->tensorflow) (4.7.2)\n",
      "Collecting google-auth<3,>=1.6.3 (from tensorboard<2.13,>=2.12->tensorflow-intel==2.12.0->tensorflow)\n",
      "  Using cached google_auth-2.17.3-py2.py3-none-any.whl (178 kB)\n",
      "Requirement already satisfied: requests-oauthlib>=0.7.0 in c:\\users\\soleen.alkhaffaf\\anaconda3\\lib\\site-packages (from google-auth-oauthlib<1.1,>=0.5->tensorboard<2.13,>=2.12->tensorflow-intel==2.12.0->tensorflow) (1.3.0)\n",
      "Requirement already satisfied: chardet<5,>=3.0.2 in c:\\users\\soleen.alkhaffaf\\anaconda3\\lib\\site-packages (from requests<3,>=2.21.0->tensorboard<2.13,>=2.12->tensorflow-intel==2.12.0->tensorflow) (4.0.0)\n",
      "Requirement already satisfied: idna<3,>=2.5 in c:\\users\\soleen.alkhaffaf\\anaconda3\\lib\\site-packages (from requests<3,>=2.21.0->tensorboard<2.13,>=2.12->tensorflow-intel==2.12.0->tensorflow) (2.10)\n",
      "Requirement already satisfied: urllib3<1.27,>=1.21.1 in c:\\users\\soleen.alkhaffaf\\anaconda3\\lib\\site-packages (from requests<3,>=2.21.0->tensorboard<2.13,>=2.12->tensorflow-intel==2.12.0->tensorflow) (1.26.4)\n",
      "Requirement already satisfied: certifi>=2017.4.17 in c:\\users\\soleen.alkhaffaf\\anaconda3\\lib\\site-packages (from requests<3,>=2.21.0->tensorboard<2.13,>=2.12->tensorflow-intel==2.12.0->tensorflow) (2022.12.7)\n",
      "Requirement already satisfied: pyasn1<0.5.0,>=0.4.6 in c:\\users\\soleen.alkhaffaf\\anaconda3\\lib\\site-packages (from pyasn1-modules>=0.2.1->google-auth<3,>=1.6.3->tensorboard<2.13,>=2.12->tensorflow-intel==2.12.0->tensorflow) (0.4.8)\n",
      "Requirement already satisfied: oauthlib>=3.0.0 in c:\\users\\soleen.alkhaffaf\\anaconda3\\lib\\site-packages (from requests-oauthlib>=0.7.0->google-auth-oauthlib<1.1,>=0.5->tensorboard<2.13,>=2.12->tensorflow-intel==2.12.0->tensorflow) (3.2.0)\n",
      "Installing collected packages: ml-dtypes, grpcio, absl-py, jax, google-auth, google-auth-oauthlib, tensorboard, tensorflow-intel, tensorflow\n",
      "  Attempting uninstall: grpcio\n",
      "    Found existing installation: grpcio 1.36.1\n",
      "    Uninstalling grpcio-1.36.1:\n",
      "      Successfully uninstalled grpcio-1.36.1\n",
      "  Attempting uninstall: absl-py\n",
      "    Found existing installation: absl-py 0.15.0\n",
      "    Uninstalling absl-py-0.15.0:\n",
      "      Successfully uninstalled absl-py-0.15.0\n",
      "  Attempting uninstall: google-auth\n",
      "    Found existing installation: google-auth 1.21.3\n",
      "    Uninstalling google-auth-1.21.3:\n",
      "      Successfully uninstalled google-auth-1.21.3\n",
      "  Attempting uninstall: google-auth-oauthlib\n",
      "    Found existing installation: google-auth-oauthlib 0.4.4\n",
      "    Uninstalling google-auth-oauthlib-0.4.4:\n",
      "      Successfully uninstalled google-auth-oauthlib-0.4.4\n",
      "  Attempting uninstall: tensorboard\n",
      "    Found existing installation: tensorboard 2.4.0\n",
      "    Uninstalling tensorboard-2.4.0:\n",
      "      Successfully uninstalled tensorboard-2.4.0\n",
      "Successfully installed absl-py-1.4.0 google-auth-2.17.3 google-auth-oauthlib-1.0.0 grpcio-1.54.0 jax-0.4.8 ml-dtypes-0.1.0 tensorboard-2.12.2 tensorflow-2.12.0 tensorflow-intel-2.12.0\n"
     ]
    }
   ],
   "source": [
    "pip install tensorflow"
   ]
  },
  {
   "cell_type": "markdown",
   "id": "2a053f42",
   "metadata": {},
   "source": [
    "### Reading The Data"
   ]
  },
  {
   "cell_type": "code",
   "execution_count": 10,
   "id": "d0dd7f11",
   "metadata": {},
   "outputs": [
    {
     "data": {
      "text/html": [
       "<div>\n",
       "<style scoped>\n",
       "    .dataframe tbody tr th:only-of-type {\n",
       "        vertical-align: middle;\n",
       "    }\n",
       "\n",
       "    .dataframe tbody tr th {\n",
       "        vertical-align: top;\n",
       "    }\n",
       "\n",
       "    .dataframe thead th {\n",
       "        text-align: right;\n",
       "    }\n",
       "</style>\n",
       "<table border=\"1\" class=\"dataframe\">\n",
       "  <thead>\n",
       "    <tr style=\"text-align: right;\">\n",
       "      <th></th>\n",
       "      <th>Unnamed: 0</th>\n",
       "      <th>open_SAR</th>\n",
       "      <th>open_USD</th>\n",
       "      <th>high_SAR</th>\n",
       "      <th>high_USD</th>\n",
       "      <th>low_SAR</th>\n",
       "      <th>low_USD</th>\n",
       "      <th>close_SAR</th>\n",
       "      <th>close_USD</th>\n",
       "      <th>volume</th>\n",
       "    </tr>\n",
       "  </thead>\n",
       "  <tbody>\n",
       "    <tr>\n",
       "      <th>0</th>\n",
       "      <td>2021-01-30</td>\n",
       "      <td>128437.248512</td>\n",
       "      <td>34246.28</td>\n",
       "      <td>131012.723200</td>\n",
       "      <td>34933.00</td>\n",
       "      <td>123106.880000</td>\n",
       "      <td>32825.00</td>\n",
       "      <td>128333.212416</td>\n",
       "      <td>34218.54</td>\n",
       "      <td>43072</td>\n",
       "    </tr>\n",
       "    <tr>\n",
       "      <th>1</th>\n",
       "      <td>2021-01-29</td>\n",
       "      <td>125144.022272</td>\n",
       "      <td>33368.18</td>\n",
       "      <td>144510.037760</td>\n",
       "      <td>38531.90</td>\n",
       "      <td>119695.516160</td>\n",
       "      <td>31915.40</td>\n",
       "      <td>128459.450880</td>\n",
       "      <td>34252.20</td>\n",
       "      <td>231827</td>\n",
       "    </tr>\n",
       "    <tr>\n",
       "      <th>2</th>\n",
       "      <td>2021-01-28</td>\n",
       "      <td>113870.357376</td>\n",
       "      <td>30362.19</td>\n",
       "      <td>126703.438592</td>\n",
       "      <td>33783.98</td>\n",
       "      <td>111919.811840</td>\n",
       "      <td>29842.10</td>\n",
       "      <td>125131.570944</td>\n",
       "      <td>33364.86</td>\n",
       "      <td>92621</td>\n",
       "    </tr>\n",
       "    <tr>\n",
       "      <th>3</th>\n",
       "      <td>2021-01-27</td>\n",
       "      <td>121753.023104</td>\n",
       "      <td>32464.01</td>\n",
       "      <td>122102.860416</td>\n",
       "      <td>32557.29</td>\n",
       "      <td>109668.146688</td>\n",
       "      <td>29241.72</td>\n",
       "      <td>113885.208960</td>\n",
       "      <td>30366.15</td>\n",
       "      <td>95911</td>\n",
       "    </tr>\n",
       "    <tr>\n",
       "      <th>4</th>\n",
       "      <td>2021-01-26</td>\n",
       "      <td>120966.114176</td>\n",
       "      <td>32254.19</td>\n",
       "      <td>123470.218752</td>\n",
       "      <td>32921.88</td>\n",
       "      <td>115652.472448</td>\n",
       "      <td>30837.37</td>\n",
       "      <td>121767.124608</td>\n",
       "      <td>32467.77</td>\n",
       "      <td>84972</td>\n",
       "    </tr>\n",
       "    <tr>\n",
       "      <th>...</th>\n",
       "      <td>...</td>\n",
       "      <td>...</td>\n",
       "      <td>...</td>\n",
       "      <td>...</td>\n",
       "      <td>...</td>\n",
       "      <td>...</td>\n",
       "      <td>...</td>\n",
       "      <td>...</td>\n",
       "      <td>...</td>\n",
       "      <td>...</td>\n",
       "    </tr>\n",
       "    <tr>\n",
       "      <th>995</th>\n",
       "      <td>2018-05-11</td>\n",
       "      <td>33761.888384</td>\n",
       "      <td>9002.21</td>\n",
       "      <td>33816.606720</td>\n",
       "      <td>9016.80</td>\n",
       "      <td>31282.086400</td>\n",
       "      <td>8341.00</td>\n",
       "      <td>31503.360000</td>\n",
       "      <td>8400.00</td>\n",
       "      <td>48227</td>\n",
       "    </tr>\n",
       "    <tr>\n",
       "      <th>996</th>\n",
       "      <td>2018-05-10</td>\n",
       "      <td>34916.224000</td>\n",
       "      <td>9310.00</td>\n",
       "      <td>35235.458048</td>\n",
       "      <td>9395.12</td>\n",
       "      <td>33641.088000</td>\n",
       "      <td>8970.00</td>\n",
       "      <td>33761.850880</td>\n",
       "      <td>9002.20</td>\n",
       "      <td>25055</td>\n",
       "    </tr>\n",
       "    <tr>\n",
       "      <th>997</th>\n",
       "      <td>2018-05-09</td>\n",
       "      <td>34421.171200</td>\n",
       "      <td>9178.00</td>\n",
       "      <td>35216.256000</td>\n",
       "      <td>9390.00</td>\n",
       "      <td>33622.336000</td>\n",
       "      <td>8965.00</td>\n",
       "      <td>34916.224000</td>\n",
       "      <td>9310.00</td>\n",
       "      <td>25673</td>\n",
       "    </tr>\n",
       "    <tr>\n",
       "      <th>998</th>\n",
       "      <td>2018-05-08</td>\n",
       "      <td>35122.496000</td>\n",
       "      <td>9365.00</td>\n",
       "      <td>35537.665280</td>\n",
       "      <td>9475.70</td>\n",
       "      <td>33980.649216</td>\n",
       "      <td>9060.54</td>\n",
       "      <td>34457.025024</td>\n",
       "      <td>9187.56</td>\n",
       "      <td>25533</td>\n",
       "    </tr>\n",
       "    <tr>\n",
       "      <th>999</th>\n",
       "      <td>2018-05-07</td>\n",
       "      <td>36232.689408</td>\n",
       "      <td>9661.02</td>\n",
       "      <td>36340.138368</td>\n",
       "      <td>9689.67</td>\n",
       "      <td>34432.422400</td>\n",
       "      <td>9181.00</td>\n",
       "      <td>35122.496000</td>\n",
       "      <td>9365.00</td>\n",
       "      <td>33787</td>\n",
       "    </tr>\n",
       "  </tbody>\n",
       "</table>\n",
       "<p>1000 rows × 10 columns</p>\n",
       "</div>"
      ],
      "text/plain": [
       "     Unnamed: 0       open_SAR  open_USD       high_SAR  high_USD  \\\n",
       "0    2021-01-30  128437.248512  34246.28  131012.723200  34933.00   \n",
       "1    2021-01-29  125144.022272  33368.18  144510.037760  38531.90   \n",
       "2    2021-01-28  113870.357376  30362.19  126703.438592  33783.98   \n",
       "3    2021-01-27  121753.023104  32464.01  122102.860416  32557.29   \n",
       "4    2021-01-26  120966.114176  32254.19  123470.218752  32921.88   \n",
       "..          ...            ...       ...            ...       ...   \n",
       "995  2018-05-11   33761.888384   9002.21   33816.606720   9016.80   \n",
       "996  2018-05-10   34916.224000   9310.00   35235.458048   9395.12   \n",
       "997  2018-05-09   34421.171200   9178.00   35216.256000   9390.00   \n",
       "998  2018-05-08   35122.496000   9365.00   35537.665280   9475.70   \n",
       "999  2018-05-07   36232.689408   9661.02   36340.138368   9689.67   \n",
       "\n",
       "           low_SAR   low_USD      close_SAR  close_USD  volume  \n",
       "0    123106.880000  32825.00  128333.212416   34218.54   43072  \n",
       "1    119695.516160  31915.40  128459.450880   34252.20  231827  \n",
       "2    111919.811840  29842.10  125131.570944   33364.86   92621  \n",
       "3    109668.146688  29241.72  113885.208960   30366.15   95911  \n",
       "4    115652.472448  30837.37  121767.124608   32467.77   84972  \n",
       "..             ...       ...            ...        ...     ...  \n",
       "995   31282.086400   8341.00   31503.360000    8400.00   48227  \n",
       "996   33641.088000   8970.00   33761.850880    9002.20   25055  \n",
       "997   33622.336000   8965.00   34916.224000    9310.00   25673  \n",
       "998   33980.649216   9060.54   34457.025024    9187.56   25533  \n",
       "999   34432.422400   9181.00   35122.496000    9365.00   33787  \n",
       "\n",
       "[1000 rows x 10 columns]"
      ]
     },
     "execution_count": 10,
     "metadata": {},
     "output_type": "execute_result"
    }
   ],
   "source": [
    "df = pd.read_csv('dc.csv')\n",
    "df"
   ]
  },
  {
   "cell_type": "markdown",
   "id": "d04b2e73",
   "metadata": {},
   "source": [
    "### Data Exploration and Preprocessing"
   ]
  },
  {
   "cell_type": "code",
   "execution_count": 11,
   "id": "ea56ccd5",
   "metadata": {},
   "outputs": [
    {
     "data": {
      "text/html": [
       "<div>\n",
       "<style scoped>\n",
       "    .dataframe tbody tr th:only-of-type {\n",
       "        vertical-align: middle;\n",
       "    }\n",
       "\n",
       "    .dataframe tbody tr th {\n",
       "        vertical-align: top;\n",
       "    }\n",
       "\n",
       "    .dataframe thead th {\n",
       "        text-align: right;\n",
       "    }\n",
       "</style>\n",
       "<table border=\"1\" class=\"dataframe\">\n",
       "  <thead>\n",
       "    <tr style=\"text-align: right;\">\n",
       "      <th></th>\n",
       "      <th>Unnamed: 0</th>\n",
       "      <th>open_SAR</th>\n",
       "      <th>open_USD</th>\n",
       "      <th>high_SAR</th>\n",
       "      <th>high_USD</th>\n",
       "      <th>low_SAR</th>\n",
       "      <th>low_USD</th>\n",
       "      <th>close_SAR</th>\n",
       "      <th>close_USD</th>\n",
       "      <th>volume</th>\n",
       "    </tr>\n",
       "  </thead>\n",
       "  <tbody>\n",
       "    <tr>\n",
       "      <th>0</th>\n",
       "      <td>2021-01-30</td>\n",
       "      <td>128437.248512</td>\n",
       "      <td>34246.28</td>\n",
       "      <td>131012.723200</td>\n",
       "      <td>34933.00</td>\n",
       "      <td>123106.880000</td>\n",
       "      <td>32825.00</td>\n",
       "      <td>128333.212416</td>\n",
       "      <td>34218.54</td>\n",
       "      <td>43072</td>\n",
       "    </tr>\n",
       "    <tr>\n",
       "      <th>1</th>\n",
       "      <td>2021-01-29</td>\n",
       "      <td>125144.022272</td>\n",
       "      <td>33368.18</td>\n",
       "      <td>144510.037760</td>\n",
       "      <td>38531.90</td>\n",
       "      <td>119695.516160</td>\n",
       "      <td>31915.40</td>\n",
       "      <td>128459.450880</td>\n",
       "      <td>34252.20</td>\n",
       "      <td>231827</td>\n",
       "    </tr>\n",
       "    <tr>\n",
       "      <th>2</th>\n",
       "      <td>2021-01-28</td>\n",
       "      <td>113870.357376</td>\n",
       "      <td>30362.19</td>\n",
       "      <td>126703.438592</td>\n",
       "      <td>33783.98</td>\n",
       "      <td>111919.811840</td>\n",
       "      <td>29842.10</td>\n",
       "      <td>125131.570944</td>\n",
       "      <td>33364.86</td>\n",
       "      <td>92621</td>\n",
       "    </tr>\n",
       "    <tr>\n",
       "      <th>3</th>\n",
       "      <td>2021-01-27</td>\n",
       "      <td>121753.023104</td>\n",
       "      <td>32464.01</td>\n",
       "      <td>122102.860416</td>\n",
       "      <td>32557.29</td>\n",
       "      <td>109668.146688</td>\n",
       "      <td>29241.72</td>\n",
       "      <td>113885.208960</td>\n",
       "      <td>30366.15</td>\n",
       "      <td>95911</td>\n",
       "    </tr>\n",
       "    <tr>\n",
       "      <th>4</th>\n",
       "      <td>2021-01-26</td>\n",
       "      <td>120966.114176</td>\n",
       "      <td>32254.19</td>\n",
       "      <td>123470.218752</td>\n",
       "      <td>32921.88</td>\n",
       "      <td>115652.472448</td>\n",
       "      <td>30837.37</td>\n",
       "      <td>121767.124608</td>\n",
       "      <td>32467.77</td>\n",
       "      <td>84972</td>\n",
       "    </tr>\n",
       "  </tbody>\n",
       "</table>\n",
       "</div>"
      ],
      "text/plain": [
       "   Unnamed: 0       open_SAR  open_USD       high_SAR  high_USD  \\\n",
       "0  2021-01-30  128437.248512  34246.28  131012.723200  34933.00   \n",
       "1  2021-01-29  125144.022272  33368.18  144510.037760  38531.90   \n",
       "2  2021-01-28  113870.357376  30362.19  126703.438592  33783.98   \n",
       "3  2021-01-27  121753.023104  32464.01  122102.860416  32557.29   \n",
       "4  2021-01-26  120966.114176  32254.19  123470.218752  32921.88   \n",
       "\n",
       "         low_SAR   low_USD      close_SAR  close_USD  volume  \n",
       "0  123106.880000  32825.00  128333.212416   34218.54   43072  \n",
       "1  119695.516160  31915.40  128459.450880   34252.20  231827  \n",
       "2  111919.811840  29842.10  125131.570944   33364.86   92621  \n",
       "3  109668.146688  29241.72  113885.208960   30366.15   95911  \n",
       "4  115652.472448  30837.37  121767.124608   32467.77   84972  "
      ]
     },
     "execution_count": 11,
     "metadata": {},
     "output_type": "execute_result"
    }
   ],
   "source": [
    "df.head()"
   ]
  },
  {
   "cell_type": "code",
   "execution_count": 12,
   "id": "615e2ed4",
   "metadata": {},
   "outputs": [
    {
     "data": {
      "text/html": [
       "<div>\n",
       "<style scoped>\n",
       "    .dataframe tbody tr th:only-of-type {\n",
       "        vertical-align: middle;\n",
       "    }\n",
       "\n",
       "    .dataframe tbody tr th {\n",
       "        vertical-align: top;\n",
       "    }\n",
       "\n",
       "    .dataframe thead th {\n",
       "        text-align: right;\n",
       "    }\n",
       "</style>\n",
       "<table border=\"1\" class=\"dataframe\">\n",
       "  <thead>\n",
       "    <tr style=\"text-align: right;\">\n",
       "      <th></th>\n",
       "      <th>Unnamed: 0</th>\n",
       "      <th>open_SAR</th>\n",
       "      <th>open_USD</th>\n",
       "      <th>high_SAR</th>\n",
       "      <th>high_USD</th>\n",
       "      <th>low_SAR</th>\n",
       "      <th>low_USD</th>\n",
       "      <th>close_SAR</th>\n",
       "      <th>close_USD</th>\n",
       "      <th>volume</th>\n",
       "    </tr>\n",
       "  </thead>\n",
       "  <tbody>\n",
       "    <tr>\n",
       "      <th>995</th>\n",
       "      <td>2018-05-11</td>\n",
       "      <td>33761.888384</td>\n",
       "      <td>9002.21</td>\n",
       "      <td>33816.606720</td>\n",
       "      <td>9016.80</td>\n",
       "      <td>31282.086400</td>\n",
       "      <td>8341.00</td>\n",
       "      <td>31503.360000</td>\n",
       "      <td>8400.00</td>\n",
       "      <td>48227</td>\n",
       "    </tr>\n",
       "    <tr>\n",
       "      <th>996</th>\n",
       "      <td>2018-05-10</td>\n",
       "      <td>34916.224000</td>\n",
       "      <td>9310.00</td>\n",
       "      <td>35235.458048</td>\n",
       "      <td>9395.12</td>\n",
       "      <td>33641.088000</td>\n",
       "      <td>8970.00</td>\n",
       "      <td>33761.850880</td>\n",
       "      <td>9002.20</td>\n",
       "      <td>25055</td>\n",
       "    </tr>\n",
       "    <tr>\n",
       "      <th>997</th>\n",
       "      <td>2018-05-09</td>\n",
       "      <td>34421.171200</td>\n",
       "      <td>9178.00</td>\n",
       "      <td>35216.256000</td>\n",
       "      <td>9390.00</td>\n",
       "      <td>33622.336000</td>\n",
       "      <td>8965.00</td>\n",
       "      <td>34916.224000</td>\n",
       "      <td>9310.00</td>\n",
       "      <td>25673</td>\n",
       "    </tr>\n",
       "    <tr>\n",
       "      <th>998</th>\n",
       "      <td>2018-05-08</td>\n",
       "      <td>35122.496000</td>\n",
       "      <td>9365.00</td>\n",
       "      <td>35537.665280</td>\n",
       "      <td>9475.70</td>\n",
       "      <td>33980.649216</td>\n",
       "      <td>9060.54</td>\n",
       "      <td>34457.025024</td>\n",
       "      <td>9187.56</td>\n",
       "      <td>25533</td>\n",
       "    </tr>\n",
       "    <tr>\n",
       "      <th>999</th>\n",
       "      <td>2018-05-07</td>\n",
       "      <td>36232.689408</td>\n",
       "      <td>9661.02</td>\n",
       "      <td>36340.138368</td>\n",
       "      <td>9689.67</td>\n",
       "      <td>34432.422400</td>\n",
       "      <td>9181.00</td>\n",
       "      <td>35122.496000</td>\n",
       "      <td>9365.00</td>\n",
       "      <td>33787</td>\n",
       "    </tr>\n",
       "  </tbody>\n",
       "</table>\n",
       "</div>"
      ],
      "text/plain": [
       "     Unnamed: 0      open_SAR  open_USD      high_SAR  high_USD       low_SAR  \\\n",
       "995  2018-05-11  33761.888384   9002.21  33816.606720   9016.80  31282.086400   \n",
       "996  2018-05-10  34916.224000   9310.00  35235.458048   9395.12  33641.088000   \n",
       "997  2018-05-09  34421.171200   9178.00  35216.256000   9390.00  33622.336000   \n",
       "998  2018-05-08  35122.496000   9365.00  35537.665280   9475.70  33980.649216   \n",
       "999  2018-05-07  36232.689408   9661.02  36340.138368   9689.67  34432.422400   \n",
       "\n",
       "     low_USD     close_SAR  close_USD  volume  \n",
       "995  8341.00  31503.360000    8400.00   48227  \n",
       "996  8970.00  33761.850880    9002.20   25055  \n",
       "997  8965.00  34916.224000    9310.00   25673  \n",
       "998  9060.54  34457.025024    9187.56   25533  \n",
       "999  9181.00  35122.496000    9365.00   33787  "
      ]
     },
     "execution_count": 12,
     "metadata": {},
     "output_type": "execute_result"
    }
   ],
   "source": [
    "df.tail()"
   ]
  },
  {
   "cell_type": "code",
   "execution_count": 13,
   "id": "c2bd780b",
   "metadata": {},
   "outputs": [
    {
     "name": "stdout",
     "output_type": "stream",
     "text": [
      "<class 'pandas.core.frame.DataFrame'>\n",
      "RangeIndex: 1000 entries, 0 to 999\n",
      "Data columns (total 10 columns):\n",
      " #   Column      Non-Null Count  Dtype  \n",
      "---  ------      --------------  -----  \n",
      " 0   Unnamed: 0  1000 non-null   object \n",
      " 1   open_SAR    1000 non-null   float64\n",
      " 2   open_USD    1000 non-null   float64\n",
      " 3   high_SAR    1000 non-null   float64\n",
      " 4   high_USD    1000 non-null   float64\n",
      " 5   low_SAR     1000 non-null   float64\n",
      " 6   low_USD     1000 non-null   float64\n",
      " 7   close_SAR   1000 non-null   float64\n",
      " 8   close_USD   1000 non-null   float64\n",
      " 9   volume      1000 non-null   int64  \n",
      "dtypes: float64(8), int64(1), object(1)\n",
      "memory usage: 78.2+ KB\n"
     ]
    }
   ],
   "source": [
    "df.info()"
   ]
  },
  {
   "cell_type": "code",
   "execution_count": 14,
   "id": "2eb25a22",
   "metadata": {},
   "outputs": [
    {
     "data": {
      "text/html": [
       "<div>\n",
       "<style scoped>\n",
       "    .dataframe tbody tr th:only-of-type {\n",
       "        vertical-align: middle;\n",
       "    }\n",
       "\n",
       "    .dataframe tbody tr th {\n",
       "        vertical-align: top;\n",
       "    }\n",
       "\n",
       "    .dataframe thead th {\n",
       "        text-align: right;\n",
       "    }\n",
       "</style>\n",
       "<table border=\"1\" class=\"dataframe\">\n",
       "  <thead>\n",
       "    <tr style=\"text-align: right;\">\n",
       "      <th></th>\n",
       "      <th>open_SAR</th>\n",
       "      <th>open_USD</th>\n",
       "      <th>high_SAR</th>\n",
       "      <th>high_USD</th>\n",
       "      <th>low_SAR</th>\n",
       "      <th>low_USD</th>\n",
       "      <th>close_SAR</th>\n",
       "      <th>close_USD</th>\n",
       "      <th>volume</th>\n",
       "    </tr>\n",
       "  </thead>\n",
       "  <tbody>\n",
       "    <tr>\n",
       "      <th>count</th>\n",
       "      <td>1000.000000</td>\n",
       "      <td>1000.000000</td>\n",
       "      <td>1000.000000</td>\n",
       "      <td>1000.000000</td>\n",
       "      <td>1000.000000</td>\n",
       "      <td>1000.000000</td>\n",
       "      <td>1000.000000</td>\n",
       "      <td>1000.000000</td>\n",
       "      <td>1000.000000</td>\n",
       "    </tr>\n",
       "    <tr>\n",
       "      <th>mean</th>\n",
       "      <td>34825.322255</td>\n",
       "      <td>9285.762120</td>\n",
       "      <td>35789.618165</td>\n",
       "      <td>9542.880270</td>\n",
       "      <td>33796.329057</td>\n",
       "      <td>9011.393200</td>\n",
       "      <td>34917.483572</td>\n",
       "      <td>9310.335850</td>\n",
       "      <td>53100.498000</td>\n",
       "    </tr>\n",
       "    <tr>\n",
       "      <th>std</th>\n",
       "      <td>21728.028028</td>\n",
       "      <td>5793.522832</td>\n",
       "      <td>22785.946842</td>\n",
       "      <td>6075.604427</td>\n",
       "      <td>20565.410145</td>\n",
       "      <td>5483.524463</td>\n",
       "      <td>21928.280072</td>\n",
       "      <td>5846.917681</td>\n",
       "      <td>35329.832031</td>\n",
       "    </tr>\n",
       "    <tr>\n",
       "      <th>min</th>\n",
       "      <td>12045.197184</td>\n",
       "      <td>3211.710000</td>\n",
       "      <td>12288.185600</td>\n",
       "      <td>3276.500000</td>\n",
       "      <td>11837.237504</td>\n",
       "      <td>3156.260000</td>\n",
       "      <td>12045.234688</td>\n",
       "      <td>3211.720000</td>\n",
       "      <td>5743.000000</td>\n",
       "    </tr>\n",
       "    <tr>\n",
       "      <th>25%</th>\n",
       "      <td>24254.558752</td>\n",
       "      <td>6467.192500</td>\n",
       "      <td>24686.089152</td>\n",
       "      <td>6582.255000</td>\n",
       "      <td>23721.336256</td>\n",
       "      <td>6325.015000</td>\n",
       "      <td>24252.946080</td>\n",
       "      <td>6466.762500</td>\n",
       "      <td>30045.750000</td>\n",
       "    </tr>\n",
       "    <tr>\n",
       "      <th>50%</th>\n",
       "      <td>30714.632128</td>\n",
       "      <td>8189.695000</td>\n",
       "      <td>31321.953152</td>\n",
       "      <td>8351.630000</td>\n",
       "      <td>30010.869568</td>\n",
       "      <td>8002.045000</td>\n",
       "      <td>30713.263232</td>\n",
       "      <td>8189.330000</td>\n",
       "      <td>43795.500000</td>\n",
       "    </tr>\n",
       "    <tr>\n",
       "      <th>75%</th>\n",
       "      <td>38317.311744</td>\n",
       "      <td>10216.860000</td>\n",
       "      <td>39077.527200</td>\n",
       "      <td>10419.562500</td>\n",
       "      <td>37158.878816</td>\n",
       "      <td>9907.977500</td>\n",
       "      <td>38329.725568</td>\n",
       "      <td>10220.170000</td>\n",
       "      <td>64909.250000</td>\n",
       "    </tr>\n",
       "    <tr>\n",
       "      <th>max</th>\n",
       "      <td>152217.334784</td>\n",
       "      <td>40586.960000</td>\n",
       "      <td>157329.280000</td>\n",
       "      <td>41950.000000</td>\n",
       "      <td>145215.488000</td>\n",
       "      <td>38720.000000</td>\n",
       "      <td>152201.770624</td>\n",
       "      <td>40582.810000</td>\n",
       "      <td>402201.000000</td>\n",
       "    </tr>\n",
       "  </tbody>\n",
       "</table>\n",
       "</div>"
      ],
      "text/plain": [
       "            open_SAR      open_USD       high_SAR      high_USD  \\\n",
       "count    1000.000000   1000.000000    1000.000000   1000.000000   \n",
       "mean    34825.322255   9285.762120   35789.618165   9542.880270   \n",
       "std     21728.028028   5793.522832   22785.946842   6075.604427   \n",
       "min     12045.197184   3211.710000   12288.185600   3276.500000   \n",
       "25%     24254.558752   6467.192500   24686.089152   6582.255000   \n",
       "50%     30714.632128   8189.695000   31321.953152   8351.630000   \n",
       "75%     38317.311744  10216.860000   39077.527200  10419.562500   \n",
       "max    152217.334784  40586.960000  157329.280000  41950.000000   \n",
       "\n",
       "             low_SAR       low_USD      close_SAR     close_USD         volume  \n",
       "count    1000.000000   1000.000000    1000.000000   1000.000000    1000.000000  \n",
       "mean    33796.329057   9011.393200   34917.483572   9310.335850   53100.498000  \n",
       "std     20565.410145   5483.524463   21928.280072   5846.917681   35329.832031  \n",
       "min     11837.237504   3156.260000   12045.234688   3211.720000    5743.000000  \n",
       "25%     23721.336256   6325.015000   24252.946080   6466.762500   30045.750000  \n",
       "50%     30010.869568   8002.045000   30713.263232   8189.330000   43795.500000  \n",
       "75%     37158.878816   9907.977500   38329.725568  10220.170000   64909.250000  \n",
       "max    145215.488000  38720.000000  152201.770624  40582.810000  402201.000000  "
      ]
     },
     "execution_count": 14,
     "metadata": {},
     "output_type": "execute_result"
    }
   ],
   "source": [
    "df.describe()"
   ]
  },
  {
   "cell_type": "markdown",
   "id": "cc94f741",
   "metadata": {},
   "source": [
    "### Resort Data\n"
   ]
  },
  {
   "cell_type": "code",
   "execution_count": 15,
   "id": "c972fae9",
   "metadata": {},
   "outputs": [],
   "source": [
    "df.sort_values(by='Unnamed: 0', ascending=True, inplace=True)"
   ]
  },
  {
   "cell_type": "markdown",
   "id": "faca7c48",
   "metadata": {},
   "source": [
    "### Set Date column as an index"
   ]
  },
  {
   "cell_type": "code",
   "execution_count": 16,
   "id": "6dffdfb0",
   "metadata": {},
   "outputs": [],
   "source": [
    "df['Unnamed: 0'] = pd.to_datetime(df['Unnamed: 0'])\n",
    "df.set_index('Unnamed: 0', inplace= True)"
   ]
  },
  {
   "cell_type": "code",
   "execution_count": 17,
   "id": "ec4009b7",
   "metadata": {},
   "outputs": [
    {
     "data": {
      "text/html": [
       "<div>\n",
       "<style scoped>\n",
       "    .dataframe tbody tr th:only-of-type {\n",
       "        vertical-align: middle;\n",
       "    }\n",
       "\n",
       "    .dataframe tbody tr th {\n",
       "        vertical-align: top;\n",
       "    }\n",
       "\n",
       "    .dataframe thead th {\n",
       "        text-align: right;\n",
       "    }\n",
       "</style>\n",
       "<table border=\"1\" class=\"dataframe\">\n",
       "  <thead>\n",
       "    <tr style=\"text-align: right;\">\n",
       "      <th></th>\n",
       "      <th>open_SAR</th>\n",
       "      <th>open_USD</th>\n",
       "      <th>high_SAR</th>\n",
       "      <th>high_USD</th>\n",
       "      <th>low_SAR</th>\n",
       "      <th>low_USD</th>\n",
       "      <th>close_SAR</th>\n",
       "      <th>close_USD</th>\n",
       "      <th>volume</th>\n",
       "    </tr>\n",
       "    <tr>\n",
       "      <th>Unnamed: 0</th>\n",
       "      <th></th>\n",
       "      <th></th>\n",
       "      <th></th>\n",
       "      <th></th>\n",
       "      <th></th>\n",
       "      <th></th>\n",
       "      <th></th>\n",
       "      <th></th>\n",
       "      <th></th>\n",
       "    </tr>\n",
       "  </thead>\n",
       "  <tbody>\n",
       "    <tr>\n",
       "      <th>2018-05-07</th>\n",
       "      <td>36232.689408</td>\n",
       "      <td>9661.02</td>\n",
       "      <td>36340.138368</td>\n",
       "      <td>9689.67</td>\n",
       "      <td>34432.422400</td>\n",
       "      <td>9181.00</td>\n",
       "      <td>35122.496000</td>\n",
       "      <td>9365.00</td>\n",
       "      <td>33787</td>\n",
       "    </tr>\n",
       "    <tr>\n",
       "      <th>2018-05-08</th>\n",
       "      <td>35122.496000</td>\n",
       "      <td>9365.00</td>\n",
       "      <td>35537.665280</td>\n",
       "      <td>9475.70</td>\n",
       "      <td>33980.649216</td>\n",
       "      <td>9060.54</td>\n",
       "      <td>34457.025024</td>\n",
       "      <td>9187.56</td>\n",
       "      <td>25533</td>\n",
       "    </tr>\n",
       "    <tr>\n",
       "      <th>2018-05-09</th>\n",
       "      <td>34421.171200</td>\n",
       "      <td>9178.00</td>\n",
       "      <td>35216.256000</td>\n",
       "      <td>9390.00</td>\n",
       "      <td>33622.336000</td>\n",
       "      <td>8965.00</td>\n",
       "      <td>34916.224000</td>\n",
       "      <td>9310.00</td>\n",
       "      <td>25673</td>\n",
       "    </tr>\n",
       "    <tr>\n",
       "      <th>2018-05-10</th>\n",
       "      <td>34916.224000</td>\n",
       "      <td>9310.00</td>\n",
       "      <td>35235.458048</td>\n",
       "      <td>9395.12</td>\n",
       "      <td>33641.088000</td>\n",
       "      <td>8970.00</td>\n",
       "      <td>33761.850880</td>\n",
       "      <td>9002.20</td>\n",
       "      <td>25055</td>\n",
       "    </tr>\n",
       "    <tr>\n",
       "      <th>2018-05-11</th>\n",
       "      <td>33761.888384</td>\n",
       "      <td>9002.21</td>\n",
       "      <td>33816.606720</td>\n",
       "      <td>9016.80</td>\n",
       "      <td>31282.086400</td>\n",
       "      <td>8341.00</td>\n",
       "      <td>31503.360000</td>\n",
       "      <td>8400.00</td>\n",
       "      <td>48227</td>\n",
       "    </tr>\n",
       "  </tbody>\n",
       "</table>\n",
       "</div>"
      ],
      "text/plain": [
       "                open_SAR  open_USD      high_SAR  high_USD       low_SAR  \\\n",
       "Unnamed: 0                                                                 \n",
       "2018-05-07  36232.689408   9661.02  36340.138368   9689.67  34432.422400   \n",
       "2018-05-08  35122.496000   9365.00  35537.665280   9475.70  33980.649216   \n",
       "2018-05-09  34421.171200   9178.00  35216.256000   9390.00  33622.336000   \n",
       "2018-05-10  34916.224000   9310.00  35235.458048   9395.12  33641.088000   \n",
       "2018-05-11  33761.888384   9002.21  33816.606720   9016.80  31282.086400   \n",
       "\n",
       "            low_USD     close_SAR  close_USD  volume  \n",
       "Unnamed: 0                                            \n",
       "2018-05-07  9181.00  35122.496000    9365.00   33787  \n",
       "2018-05-08  9060.54  34457.025024    9187.56   25533  \n",
       "2018-05-09  8965.00  34916.224000    9310.00   25673  \n",
       "2018-05-10  8970.00  33761.850880    9002.20   25055  \n",
       "2018-05-11  8341.00  31503.360000    8400.00   48227  "
      ]
     },
     "execution_count": 17,
     "metadata": {},
     "output_type": "execute_result"
    }
   ],
   "source": [
    "df.head()"
   ]
  },
  {
   "cell_type": "code",
   "execution_count": 18,
   "id": "592d167d",
   "metadata": {},
   "outputs": [
    {
     "data": {
      "image/png": "[encoded data removed]",
      "text/plain": [
       "<Figure size 1080x432 with 1 Axes>"
      ]
     },
     "metadata": {},
     "output_type": "display_data"
    }
   ],
   "source": [
    "plt.figure(figsize=(15, 6))\n",
    "df['open_USD'].plot()\n",
    "df['close_USD'].plot()\n",
    "plt.ylabel(None)\n",
    "plt.xlabel(None)\n",
    "plt.title(\"Opening & Closing Price\")\n",
    "plt.legend(['Open Price', 'Close Price'])\n",
    "plt.tight_layout()\n",
    "plt.show()"
   ]
  },
  {
   "cell_type": "code",
   "execution_count": 19,
   "id": "74e9a6e7",
   "metadata": {},
   "outputs": [
    {
     "data": {
      "image/png": "[encoded data removed]",
      "text/plain": [
       "<Figure size 1080x432 with 1 Axes>"
      ]
     },
     "metadata": {},
     "output_type": "display_data"
    }
   ],
   "source": [
    "plt.figure(figsize=(15, 6))\n",
    "df['volume'].plot()\n",
    "plt.ylabel('volume')\n",
    "plt.xlabel(None)\n",
    "plt.title(\"Prices Volume\")\n",
    "plt.tight_layout()\n",
    "plt.show()"
   ]
  },
  {
   "cell_type": "code",
   "execution_count": 20,
   "id": "982aaf77",
   "metadata": {},
   "outputs": [
    {
     "data": {
      "image/png": "[encoded data removed]",
      "text/plain": [
       "<Figure size 1080x432 with 1 Axes>"
      ]
     },
     "metadata": {},
     "output_type": "display_data"
    }
   ],
   "source": [
    "plt.figure(figsize=(15, 6))\n",
    "df['high_USD'].plot()\n",
    "df['low_USD'].plot()\n",
    "plt.ylabel(None)\n",
    "plt.xlabel(None)\n",
    "plt.title(\"High & Low Prices\")\n",
    "plt.legend(['High Price', 'Low Price'])\n",
    "plt.tight_layout()\n",
    "plt.show()"
   ]
  },
  {
   "cell_type": "markdown",
   "id": "8f7f7325",
   "metadata": {},
   "source": [
    "### Choosing Prediction Column"
   ]
  },
  {
   "cell_type": "code",
   "execution_count": 61,
   "id": "43c7459b",
   "metadata": {},
   "outputs": [
    {
     "data": {
      "text/plain": [
       "(1000, 1)"
      ]
     },
     "execution_count": 61,
     "metadata": {},
     "output_type": "execute_result"
    }
   ],
   "source": [
    "n_cols = 1\n",
    "dataset = df[\"close_USD\"]\n",
    "dataset = pd.DataFrame(dataset)\n",
    "data = dataset.values\n",
    "\n",
    "data.shape"
   ]
  },
  {
   "cell_type": "markdown",
   "id": "111e2ac6",
   "metadata": {},
   "source": [
    "### Normalizing Data"
   ]
  },
  {
   "cell_type": "code",
   "execution_count": 62,
   "id": "018cb0e5",
   "metadata": {},
   "outputs": [],
   "source": [
    "from sklearn.preprocessing import MinMaxScaler\n",
    "scaler = MinMaxScaler(feature_range= (0, 1))\n",
    "scaled_data = scaler.fit_transform(np.array(data))"
   ]
  },
  {
   "cell_type": "markdown",
   "id": "e980b71c",
   "metadata": {},
   "source": [
    "### Splitting the Data"
   ]
  },
  {
   "cell_type": "code",
   "execution_count": 23,
   "id": "68939fd6",
   "metadata": {},
   "outputs": [
    {
     "name": "stdout",
     "output_type": "stream",
     "text": [
      "Train Size : 750 Test Size : 250\n"
     ]
    }
   ],
   "source": [
    "# 75% to Train , 25% to Test\n",
    "train_size = int(len(data) * 0.75)\n",
    "test_size = len(data) - train_size\n",
    "print(\"Train Size :\",train_size,\"Test Size :\",test_size)"
   ]
  },
  {
   "cell_type": "code",
   "execution_count": 24,
   "id": "7b6fb662",
   "metadata": {},
   "outputs": [
    {
     "data": {
      "text/plain": [
       "(750, 1)"
      ]
     },
     "execution_count": 24,
     "metadata": {},
     "output_type": "execute_result"
    }
   ],
   "source": [
    "train_data = scaled_data[0:train_size, :]\n",
    "train_data.shape"
   ]
  },
  {
   "cell_type": "markdown",
   "id": "dc5084cc",
   "metadata": {},
   "source": [
    "### Creating training set"
   ]
  },
  {
   "cell_type": "code",
   "execution_count": 25,
   "id": "7e7a2ebd",
   "metadata": {},
   "outputs": [
    {
     "name": "stdout",
     "output_type": "stream",
     "text": [
      "X_train:  [array([[0.16465348],\n",
      "       [0.15990542],\n",
      "       [0.16318175],\n",
      "       [0.15494544],\n",
      "       [0.13883138],\n",
      "       [0.14059585],\n",
      "       [0.14631604],\n",
      "       [0.145878  ],\n",
      "       [0.14049042],\n",
      "       [0.13695827],\n",
      "       [0.12923733],\n",
      "       [0.13454491],\n",
      "       [0.1343758 ],\n",
      "       [0.14222919],\n",
      "       [0.13832939],\n",
      "       [0.12751541],\n",
      "       [0.11480077],\n",
      "       [0.11675576],\n",
      "       [0.11359797],\n",
      "       [0.11030559],\n",
      "       [0.11044018],\n",
      "       [0.10401837],\n",
      "       [0.11371277],\n",
      "       [0.11142945],\n",
      "       [0.11434748],\n",
      "       [0.11531079],\n",
      "       [0.11849561],\n",
      "       [0.1204819 ],\n",
      "       [0.11440073],\n",
      "       [0.11809342],\n",
      "       [0.11899894],\n",
      "       [0.11986164],\n",
      "       [0.11751651],\n",
      "       [0.1145273 ],\n",
      "       [0.09508072],\n",
      "       [0.09794416],\n",
      "       [0.0887927 ],\n",
      "       [0.08244501],\n",
      "       [0.09162858],\n",
      "       [0.08501705],\n",
      "       [0.08756127],\n",
      "       [0.08664157],\n",
      "       [0.09367508],\n",
      "       [0.0944444 ],\n",
      "       [0.0949876 ],\n",
      "       [0.0938458 ],\n",
      "       [0.07581475],\n",
      "       [0.07862388],\n",
      "       [0.07827575],\n",
      "       [0.0813538 ],\n",
      "       [0.07650459],\n",
      "       [0.07818905],\n",
      "       [0.07070332],\n",
      "       [0.07990669],\n",
      "       [0.08504836],\n",
      "       [0.08415837],\n",
      "       [0.09107495],\n",
      "       [0.08836082],\n",
      "       [0.09031741],\n",
      "       [0.08877129]])]\n",
      "y_train: [array([0.09092751])]\n"
     ]
    }
   ],
   "source": [
    "# Creating a Training set with 60 time-steps\n",
    "x_train = []\n",
    "y_train = []\n",
    "time_steps = 60\n",
    "n_cols = 1\n",
    "\n",
    "for i in range(time_steps, len(train_data)):\n",
    "    x_train.append(train_data[i-time_steps:i, :n_cols])\n",
    "    y_train.append(train_data[i, :n_cols])\n",
    "    if i<=time_steps:\n",
    "        print('X_train: ', x_train)\n",
    "        print('y_train:' , y_train)"
   ]
  },
  {
   "cell_type": "code",
   "execution_count": 26,
   "id": "2e192756",
   "metadata": {},
   "outputs": [],
   "source": [
    "# Convert to numpy array\n",
    "x_train, y_train = np.array(x_train), np.array(y_train)"
   ]
  },
  {
   "cell_type": "code",
   "execution_count": 27,
   "id": "0211a8d6",
   "metadata": {},
   "outputs": [],
   "source": [
    "# Reshaping the input to (n_samples, time_steps, n_feature)\n",
    "x_train = np.reshape(x_train, (x_train.shape[0], x_train.shape[1], n_cols))"
   ]
  },
  {
   "cell_type": "code",
   "execution_count": 28,
   "id": "021b2030",
   "metadata": {},
   "outputs": [
    {
     "data": {
      "text/plain": [
       "((690, 60, 1), (690, 1))"
      ]
     },
     "execution_count": 28,
     "metadata": {},
     "output_type": "execute_result"
    }
   ],
   "source": [
    "x_train.shape , y_train.shape"
   ]
  },
  {
   "cell_type": "markdown",
   "id": "a4065704",
   "metadata": {},
   "source": [
    "### LSTM Model"
   ]
  },
  {
   "cell_type": "code",
   "execution_count": 29,
   "id": "24c656c1",
   "metadata": {},
   "outputs": [],
   "source": [
    "model = Sequential([\n",
    "    LSTM(50, return_sequences= True, input_shape= (x_train.shape[1], n_cols)),\n",
    "    LSTM(64, return_sequences= False),\n",
    "    Dense(32),\n",
    "    Dense(16),\n",
    "    Dense(n_cols)\n",
    "])\n",
    "\n",
    "model.compile(optimizer= 'adam', loss= 'mse' , metrics= \"mean_absolute_error\")"
   ]
  },
  {
   "cell_type": "code",
   "execution_count": 30,
   "id": "6c1f0347",
   "metadata": {},
   "outputs": [
    {
     "name": "stdout",
     "output_type": "stream",
     "text": [
      "Model: \"sequential\"\n",
      "_________________________________________________________________\n",
      " Layer (type)                Output Shape              Param #   \n",
      "=================================================================\n",
      " lstm (LSTM)                 (None, 60, 50)            10400     \n",
      "                                                                 \n",
      " lstm_1 (LSTM)               (None, 64)                29440     \n",
      "                                                                 \n",
      " dense (Dense)               (None, 32)                2080      \n",
      "                                                                 \n",
      " dense_1 (Dense)             (None, 16)                528       \n",
      "                                                                 \n",
      " dense_2 (Dense)             (None, 1)                 17        \n",
      "                                                                 \n",
      "=================================================================\n",
      "Total params: 42,465\n",
      "Trainable params: 42,465\n",
      "Non-trainable params: 0\n",
      "_________________________________________________________________\n"
     ]
    }
   ],
   "source": [
    "model.summary()"
   ]
  },
  {
   "cell_type": "markdown",
   "id": "74236bf9",
   "metadata": {},
   "source": [
    "### Model Training"
   ]
  },
  {
   "cell_type": "code",
   "execution_count": 31,
   "id": "2b4c7465",
   "metadata": {},
   "outputs": [
    {
     "name": "stdout",
     "output_type": "stream",
     "text": [
      "Epoch 1/100\n",
      "22/22 [==============================] - 4s 34ms/step - loss: 0.0029 - mean_absolute_error: 0.0418\n",
      "Epoch 2/100\n",
      "22/22 [==============================] - 1s 34ms/step - loss: 4.2774e-04 - mean_absolute_error: 0.0151\n",
      "Epoch 3/100\n",
      "22/22 [==============================] - 1s 39ms/step - loss: 3.2072e-04 - mean_absolute_error: 0.0127\n",
      "Epoch 4/100\n",
      "22/22 [==============================] - 1s 57ms/step - loss: 2.9824e-04 - mean_absolute_error: 0.0122\n",
      "Epoch 5/100\n",
      "22/22 [==============================] - 1s 64ms/step - loss: 2.8903e-04 - mean_absolute_error: 0.0122\n",
      "Epoch 6/100\n",
      "22/22 [==============================] - 2s 87ms/step - loss: 2.5013e-04 - mean_absolute_error: 0.0113\n",
      "Epoch 7/100\n",
      "22/22 [==============================] - 3s 134ms/step - loss: 2.3500e-04 - mean_absolute_error: 0.0107\n",
      "Epoch 8/100\n",
      "22/22 [==============================] - 2s 101ms/step - loss: 2.4211e-04 - mean_absolute_error: 0.0110\n",
      "Epoch 9/100\n",
      "22/22 [==============================] - 2s 74ms/step - loss: 2.2917e-04 - mean_absolute_error: 0.0111\n",
      "Epoch 10/100\n",
      "22/22 [==============================] - 1s 60ms/step - loss: 2.0352e-04 - mean_absolute_error: 0.0100\n",
      "Epoch 11/100\n",
      "22/22 [==============================] - 1s 64ms/step - loss: 1.9174e-04 - mean_absolute_error: 0.0096\n",
      "Epoch 12/100\n",
      "22/22 [==============================] - 1s 63ms/step - loss: 1.8709e-04 - mean_absolute_error: 0.0095\n",
      "Epoch 13/100\n",
      "22/22 [==============================] - 1s 64ms/step - loss: 1.7550e-04 - mean_absolute_error: 0.0092\n",
      "Epoch 14/100\n",
      "22/22 [==============================] - 1s 66ms/step - loss: 1.7883e-04 - mean_absolute_error: 0.0094\n",
      "Epoch 15/100\n",
      "22/22 [==============================] - 1s 66ms/step - loss: 1.7263e-04 - mean_absolute_error: 0.0093\n",
      "Epoch 16/100\n",
      "22/22 [==============================] - 1s 60ms/step - loss: 1.7668e-04 - mean_absolute_error: 0.0092\n",
      "Epoch 17/100\n",
      "22/22 [==============================] - 1s 59ms/step - loss: 1.6479e-04 - mean_absolute_error: 0.0090\n",
      "Epoch 18/100\n",
      "22/22 [==============================] - 2s 69ms/step - loss: 1.5027e-04 - mean_absolute_error: 0.0086\n",
      "Epoch 19/100\n",
      "22/22 [==============================] - 1s 60ms/step - loss: 1.6072e-04 - mean_absolute_error: 0.0088\n",
      "Epoch 20/100\n",
      "22/22 [==============================] - 1s 64ms/step - loss: 1.7838e-04 - mean_absolute_error: 0.0096\n",
      "Epoch 21/100\n",
      "22/22 [==============================] - 1s 66ms/step - loss: 1.4239e-04 - mean_absolute_error: 0.0081\n",
      "Epoch 22/100\n",
      "22/22 [==============================] - 1s 64ms/step - loss: 1.5151e-04 - mean_absolute_error: 0.0087\n",
      "Epoch 23/100\n",
      "22/22 [==============================] - 1s 68ms/step - loss: 1.6665e-04 - mean_absolute_error: 0.0095\n",
      "Epoch 24/100\n",
      "22/22 [==============================] - 1s 61ms/step - loss: 1.4658e-04 - mean_absolute_error: 0.0085\n",
      "Epoch 25/100\n",
      "22/22 [==============================] - 1s 65ms/step - loss: 1.2464e-04 - mean_absolute_error: 0.0076\n",
      "Epoch 26/100\n",
      "22/22 [==============================] - 1s 66ms/step - loss: 1.2909e-04 - mean_absolute_error: 0.0079\n",
      "Epoch 27/100\n",
      "22/22 [==============================] - 1s 62ms/step - loss: 1.2410e-04 - mean_absolute_error: 0.0075\n",
      "Epoch 28/100\n",
      "22/22 [==============================] - 1s 66ms/step - loss: 1.1777e-04 - mean_absolute_error: 0.0074\n",
      "Epoch 29/100\n",
      "22/22 [==============================] - 1s 63ms/step - loss: 1.2203e-04 - mean_absolute_error: 0.0078\n",
      "Epoch 30/100\n",
      "22/22 [==============================] - 1s 61ms/step - loss: 1.3276e-04 - mean_absolute_error: 0.0082\n",
      "Epoch 31/100\n",
      "22/22 [==============================] - 1s 61ms/step - loss: 1.3846e-04 - mean_absolute_error: 0.0085\n",
      "Epoch 32/100\n",
      "22/22 [==============================] - 1s 63ms/step - loss: 1.0638e-04 - mean_absolute_error: 0.0070\n",
      "Epoch 33/100\n",
      "22/22 [==============================] - 1s 68ms/step - loss: 1.1807e-04 - mean_absolute_error: 0.0076\n",
      "Epoch 34/100\n",
      "22/22 [==============================] - 1s 62ms/step - loss: 1.1350e-04 - mean_absolute_error: 0.0075\n",
      "Epoch 35/100\n",
      "22/22 [==============================] - 1s 62ms/step - loss: 1.2105e-04 - mean_absolute_error: 0.0079\n",
      "Epoch 36/100\n",
      "22/22 [==============================] - 1s 63ms/step - loss: 1.0228e-04 - mean_absolute_error: 0.0068\n",
      "Epoch 37/100\n",
      "22/22 [==============================] - 2s 74ms/step - loss: 1.0289e-04 - mean_absolute_error: 0.0069\n",
      "Epoch 38/100\n",
      "22/22 [==============================] - 2s 73ms/step - loss: 9.6920e-05 - mean_absolute_error: 0.0066\n",
      "Epoch 39/100\n",
      "22/22 [==============================] - 1s 62ms/step - loss: 1.1197e-04 - mean_absolute_error: 0.0074\n",
      "Epoch 40/100\n",
      "22/22 [==============================] - 1s 62ms/step - loss: 9.5050e-05 - mean_absolute_error: 0.0066\n",
      "Epoch 41/100\n",
      "22/22 [==============================] - 1s 63ms/step - loss: 8.8522e-05 - mean_absolute_error: 0.0063\n",
      "Epoch 42/100\n",
      "22/22 [==============================] - 1s 63ms/step - loss: 9.1277e-05 - mean_absolute_error: 0.0063\n",
      "Epoch 43/100\n",
      "22/22 [==============================] - 2s 73ms/step - loss: 8.9354e-05 - mean_absolute_error: 0.0062\n",
      "Epoch 44/100\n",
      "22/22 [==============================] - 2s 74ms/step - loss: 8.6016e-05 - mean_absolute_error: 0.0061\n",
      "Epoch 45/100\n",
      "22/22 [==============================] - 1s 63ms/step - loss: 9.5576e-05 - mean_absolute_error: 0.0067\n",
      "Epoch 46/100\n",
      "22/22 [==============================] - 1s 65ms/step - loss: 8.9839e-05 - mean_absolute_error: 0.0064\n",
      "Epoch 47/100\n",
      "22/22 [==============================] - 1s 66ms/step - loss: 8.5856e-05 - mean_absolute_error: 0.0063\n",
      "Epoch 48/100\n",
      "22/22 [==============================] - 1s 62ms/step - loss: 8.5823e-05 - mean_absolute_error: 0.0063\n",
      "Epoch 49/100\n",
      "22/22 [==============================] - 1s 65ms/step - loss: 8.7087e-05 - mean_absolute_error: 0.0062\n",
      "Epoch 50/100\n",
      "22/22 [==============================] - 1s 66ms/step - loss: 8.3744e-05 - mean_absolute_error: 0.0061\n",
      "Epoch 51/100\n",
      "22/22 [==============================] - 1s 65ms/step - loss: 9.1475e-05 - mean_absolute_error: 0.0065\n",
      "Epoch 52/100\n",
      "22/22 [==============================] - 1s 63ms/step - loss: 1.0893e-04 - mean_absolute_error: 0.0073\n",
      "Epoch 53/100\n",
      "22/22 [==============================] - 1s 65ms/step - loss: 7.9271e-05 - mean_absolute_error: 0.0058\n",
      "Epoch 54/100\n",
      "22/22 [==============================] - 2s 68ms/step - loss: 8.2495e-05 - mean_absolute_error: 0.0060\n",
      "Epoch 55/100\n",
      "22/22 [==============================] - 1s 68ms/step - loss: 8.4672e-05 - mean_absolute_error: 0.0061\n",
      "Epoch 56/100\n",
      "22/22 [==============================] - 2s 73ms/step - loss: 1.2598e-04 - mean_absolute_error: 0.0083\n",
      "Epoch 57/100\n",
      "22/22 [==============================] - 2s 68ms/step - loss: 8.9725e-05 - mean_absolute_error: 0.0065\n",
      "Epoch 58/100\n",
      "22/22 [==============================] - 1s 65ms/step - loss: 8.3615e-05 - mean_absolute_error: 0.0062\n",
      "Epoch 59/100\n",
      "22/22 [==============================] - 1s 66ms/step - loss: 8.7021e-05 - mean_absolute_error: 0.0063\n",
      "Epoch 60/100\n",
      "22/22 [==============================] - 1s 66ms/step - loss: 9.2519e-05 - mean_absolute_error: 0.0067\n",
      "Epoch 61/100\n",
      "22/22 [==============================] - 1s 65ms/step - loss: 8.8387e-05 - mean_absolute_error: 0.0064\n",
      "Epoch 62/100\n",
      "22/22 [==============================] - 1s 64ms/step - loss: 7.7353e-05 - mean_absolute_error: 0.0058\n",
      "Epoch 63/100\n",
      "22/22 [==============================] - 1s 65ms/step - loss: 8.0132e-05 - mean_absolute_error: 0.0060\n",
      "Epoch 64/100\n",
      "22/22 [==============================] - 1s 68ms/step - loss: 9.2287e-05 - mean_absolute_error: 0.0067\n",
      "Epoch 65/100\n",
      "22/22 [==============================] - 1s 66ms/step - loss: 8.1598e-05 - mean_absolute_error: 0.0060\n",
      "Epoch 66/100\n",
      "22/22 [==============================] - 2s 72ms/step - loss: 8.4910e-05 - mean_absolute_error: 0.0060\n",
      "Epoch 67/100\n",
      "22/22 [==============================] - 2s 73ms/step - loss: 9.2628e-05 - mean_absolute_error: 0.0069\n",
      "Epoch 68/100\n",
      "22/22 [==============================] - 2s 77ms/step - loss: 7.9444e-05 - mean_absolute_error: 0.0059\n",
      "Epoch 69/100\n",
      "22/22 [==============================] - 1s 68ms/step - loss: 7.9805e-05 - mean_absolute_error: 0.0059\n",
      "Epoch 70/100\n",
      "22/22 [==============================] - 1s 66ms/step - loss: 7.6191e-05 - mean_absolute_error: 0.0055\n",
      "Epoch 71/100\n"
     ]
    },
    {
     "name": "stdout",
     "output_type": "stream",
     "text": [
      "22/22 [==============================] - 1s 60ms/step - loss: 7.5905e-05 - mean_absolute_error: 0.0055\n",
      "Epoch 72/100\n",
      "22/22 [==============================] - 1s 58ms/step - loss: 7.6914e-05 - mean_absolute_error: 0.0055\n",
      "Epoch 73/100\n",
      "22/22 [==============================] - 1s 61ms/step - loss: 7.4144e-05 - mean_absolute_error: 0.0054\n",
      "Epoch 74/100\n",
      "22/22 [==============================] - 1s 62ms/step - loss: 7.6526e-05 - mean_absolute_error: 0.0056\n",
      "Epoch 75/100\n",
      "22/22 [==============================] - 1s 59ms/step - loss: 7.4342e-05 - mean_absolute_error: 0.0055\n",
      "Epoch 76/100\n",
      "22/22 [==============================] - 1s 58ms/step - loss: 8.1732e-05 - mean_absolute_error: 0.0061\n",
      "Epoch 77/100\n",
      "22/22 [==============================] - 1s 61ms/step - loss: 8.3926e-05 - mean_absolute_error: 0.0061\n",
      "Epoch 78/100\n",
      "22/22 [==============================] - 1s 57ms/step - loss: 1.1540e-04 - mean_absolute_error: 0.0078\n",
      "Epoch 79/100\n",
      "22/22 [==============================] - 1s 57ms/step - loss: 9.7571e-05 - mean_absolute_error: 0.0071\n",
      "Epoch 80/100\n",
      "22/22 [==============================] - 1s 59ms/step - loss: 7.4772e-05 - mean_absolute_error: 0.0056\n",
      "Epoch 81/100\n",
      "22/22 [==============================] - 1s 61ms/step - loss: 1.0293e-04 - mean_absolute_error: 0.0073\n",
      "Epoch 82/100\n",
      "22/22 [==============================] - 1s 66ms/step - loss: 1.1149e-04 - mean_absolute_error: 0.0077\n",
      "Epoch 83/100\n",
      "22/22 [==============================] - 1s 59ms/step - loss: 7.3557e-05 - mean_absolute_error: 0.0054\n",
      "Epoch 84/100\n",
      "22/22 [==============================] - 1s 62ms/step - loss: 7.3081e-05 - mean_absolute_error: 0.0053\n",
      "Epoch 85/100\n",
      "22/22 [==============================] - 1s 61ms/step - loss: 7.9674e-05 - mean_absolute_error: 0.0060\n",
      "Epoch 86/100\n",
      "22/22 [==============================] - 1s 59ms/step - loss: 8.1422e-05 - mean_absolute_error: 0.0060\n",
      "Epoch 87/100\n",
      "22/22 [==============================] - 1s 59ms/step - loss: 7.5381e-05 - mean_absolute_error: 0.0055\n",
      "Epoch 88/100\n",
      "22/22 [==============================] - 1s 58ms/step - loss: 7.6069e-05 - mean_absolute_error: 0.0056\n",
      "Epoch 89/100\n",
      "22/22 [==============================] - 1s 59ms/step - loss: 7.5953e-05 - mean_absolute_error: 0.0056\n",
      "Epoch 90/100\n",
      "22/22 [==============================] - 1s 62ms/step - loss: 7.1795e-05 - mean_absolute_error: 0.0054\n",
      "Epoch 91/100\n",
      "22/22 [==============================] - 1s 61ms/step - loss: 7.4852e-05 - mean_absolute_error: 0.0055\n",
      "Epoch 92/100\n",
      "22/22 [==============================] - 1s 62ms/step - loss: 7.7212e-05 - mean_absolute_error: 0.0058\n",
      "Epoch 93/100\n",
      "22/22 [==============================] - 1s 60ms/step - loss: 8.6558e-05 - mean_absolute_error: 0.0063\n",
      "Epoch 94/100\n",
      "22/22 [==============================] - 1s 60ms/step - loss: 7.1760e-05 - mean_absolute_error: 0.0054\n",
      "Epoch 95/100\n",
      "22/22 [==============================] - 1s 60ms/step - loss: 7.5075e-05 - mean_absolute_error: 0.0056\n",
      "Epoch 96/100\n",
      "22/22 [==============================] - 1s 61ms/step - loss: 7.3943e-05 - mean_absolute_error: 0.0055\n",
      "Epoch 97/100\n",
      "22/22 [==============================] - 1s 61ms/step - loss: 8.0322e-05 - mean_absolute_error: 0.0060\n",
      "Epoch 98/100\n",
      "22/22 [==============================] - 1s 62ms/step - loss: 7.9274e-05 - mean_absolute_error: 0.0061\n",
      "Epoch 99/100\n",
      "22/22 [==============================] - 1s 61ms/step - loss: 7.5845e-05 - mean_absolute_error: 0.0059\n",
      "Epoch 100/100\n",
      "22/22 [==============================] - 1s 60ms/step - loss: 7.9580e-05 - mean_absolute_error: 0.0058\n"
     ]
    }
   ],
   "source": [
    "# Fitting the LSTM to the Training set\n",
    "history = model.fit(x_train, y_train, epochs= 100, batch_size= 32)"
   ]
  },
  {
   "cell_type": "markdown",
   "id": "757bdf30",
   "metadata": {},
   "source": [
    "### Model Evaluation"
   ]
  },
  {
   "cell_type": "code",
   "execution_count": 32,
   "id": "07b447f7",
   "metadata": {},
   "outputs": [
    {
     "data": {
      "image/png": "[encoded data removed]",
      "text/plain": [
       "<Figure size 864x576 with 1 Axes>"
      ]
     },
     "metadata": {},
     "output_type": "display_data"
    }
   ],
   "source": [
    "plt.figure(figsize=(12, 8))\n",
    "plt.plot(history.history[\"loss\"])\n",
    "plt.plot(history.history[\"mean_absolute_error\"])\n",
    "plt.legend(['Mean Squared Error','Mean Absolute Error'])\n",
    "plt.title(\"Losses\")\n",
    "plt.xlabel(\"epochs\")\n",
    "plt.ylabel(\"loss\")\n",
    "plt.show()"
   ]
  },
  {
   "cell_type": "markdown",
   "id": "d570b183",
   "metadata": {},
   "source": [
    "### Predection "
   ]
  },
  {
   "cell_type": "markdown",
   "id": "f849308a",
   "metadata": {},
   "source": [
    "### Creating testing set"
   ]
  },
  {
   "cell_type": "code",
   "execution_count": 33,
   "id": "cd39458e",
   "metadata": {},
   "outputs": [],
   "source": [
    "# Creating a testing set with 60 time-steps and 1 output\n",
    "time_steps = 60\n",
    "test_data = scaled_data[train_size - time_steps:, :]\n",
    "\n",
    "x_test = []\n",
    "y_test = []\n",
    "n_cols = 1\n",
    "\n",
    "for i in range(time_steps, len(test_data)):\n",
    "    x_test.append(test_data[i-time_steps:i, 0:n_cols])\n",
    "    y_test.append(test_data[i, 0:n_cols])\n",
    "x_test, y_test = np.array(x_test), np.array(y_test)\n",
    "x_test = np.reshape(x_test, (x_test.shape[0], x_test.shape[1], n_cols))"
   ]
  },
  {
   "cell_type": "code",
   "execution_count": 34,
   "id": "c92c1647",
   "metadata": {},
   "outputs": [
    {
     "data": {
      "text/plain": [
       "((250, 60, 1), (250, 1))"
      ]
     },
     "execution_count": 34,
     "metadata": {},
     "output_type": "execute_result"
    }
   ],
   "source": [
    "x_test.shape , y_test.shape"
   ]
  },
  {
   "cell_type": "code",
   "execution_count": 35,
   "id": "ebe3f382",
   "metadata": {},
   "outputs": [
    {
     "name": "stdout",
     "output_type": "stream",
     "text": [
      "8/8 [==============================] - 1s 13ms/step\n"
     ]
    }
   ],
   "source": [
    "# Get Prediction\n",
    "predictions = model.predict(x_test)"
   ]
  },
  {
   "cell_type": "markdown",
   "id": "74340141",
   "metadata": {},
   "source": [
    "### Root mean square error "
   ]
  },
  {
   "cell_type": "code",
   "execution_count": 36,
   "id": "1c0128b1",
   "metadata": {},
   "outputs": [
    {
     "data": {
      "text/plain": [
       "(250, 1)"
      ]
     },
     "execution_count": 36,
     "metadata": {},
     "output_type": "execute_result"
    }
   ],
   "source": [
    "#inverse predictions scaling\n",
    "predictions = scaler.inverse_transform(predictions)\n",
    "predictions.shape"
   ]
  },
  {
   "cell_type": "code",
   "execution_count": 37,
   "id": "e2d91e25",
   "metadata": {},
   "outputs": [
    {
     "data": {
      "text/plain": [
       "748.11"
      ]
     },
     "execution_count": 37,
     "metadata": {},
     "output_type": "execute_result"
    }
   ],
   "source": [
    "#inverse y_test scaling\n",
    "y_test = scaler.inverse_transform(y_test)\n",
    "\n",
    "RMSE = np.sqrt(np.mean( y_test - predictions )**2).round(2)\n",
    "RMSE"
   ]
  },
  {
   "cell_type": "code",
   "execution_count": 38,
   "id": "fd6567f9",
   "metadata": {},
   "outputs": [
    {
     "data": {
      "text/html": [
       "<div>\n",
       "<style scoped>\n",
       "    .dataframe tbody tr th:only-of-type {\n",
       "        vertical-align: middle;\n",
       "    }\n",
       "\n",
       "    .dataframe tbody tr th {\n",
       "        vertical-align: top;\n",
       "    }\n",
       "\n",
       "    .dataframe thead th {\n",
       "        text-align: right;\n",
       "    }\n",
       "</style>\n",
       "<table border=\"1\" class=\"dataframe\">\n",
       "  <thead>\n",
       "    <tr style=\"text-align: right;\">\n",
       "      <th></th>\n",
       "      <th>Predictions</th>\n",
       "      <th>Actuals</th>\n",
       "    </tr>\n",
       "  </thead>\n",
       "  <tbody>\n",
       "    <tr>\n",
       "      <th>0</th>\n",
       "      <td>8722.860352</td>\n",
       "      <td>8841.18</td>\n",
       "    </tr>\n",
       "    <tr>\n",
       "      <th>1</th>\n",
       "      <td>8718.908203</td>\n",
       "      <td>9204.07</td>\n",
       "    </tr>\n",
       "    <tr>\n",
       "      <th>2</th>\n",
       "      <td>9027.875000</td>\n",
       "      <td>9575.89</td>\n",
       "    </tr>\n",
       "    <tr>\n",
       "      <th>3</th>\n",
       "      <td>9417.742188</td>\n",
       "      <td>9427.07</td>\n",
       "    </tr>\n",
       "    <tr>\n",
       "      <th>4</th>\n",
       "      <td>9351.343750</td>\n",
       "      <td>9697.72</td>\n",
       "    </tr>\n",
       "    <tr>\n",
       "      <th>...</th>\n",
       "      <td>...</td>\n",
       "      <td>...</td>\n",
       "    </tr>\n",
       "    <tr>\n",
       "      <th>245</th>\n",
       "      <td>29646.033203</td>\n",
       "      <td>32467.77</td>\n",
       "    </tr>\n",
       "    <tr>\n",
       "      <th>246</th>\n",
       "      <td>29861.964844</td>\n",
       "      <td>30366.15</td>\n",
       "    </tr>\n",
       "    <tr>\n",
       "      <th>247</th>\n",
       "      <td>27442.869141</td>\n",
       "      <td>33364.86</td>\n",
       "    </tr>\n",
       "    <tr>\n",
       "      <th>248</th>\n",
       "      <td>31113.031250</td>\n",
       "      <td>34252.20</td>\n",
       "    </tr>\n",
       "    <tr>\n",
       "      <th>249</th>\n",
       "      <td>31885.333984</td>\n",
       "      <td>34218.54</td>\n",
       "    </tr>\n",
       "  </tbody>\n",
       "</table>\n",
       "<p>250 rows × 2 columns</p>\n",
       "</div>"
      ],
      "text/plain": [
       "      Predictions   Actuals\n",
       "0     8722.860352   8841.18\n",
       "1     8718.908203   9204.07\n",
       "2     9027.875000   9575.89\n",
       "3     9417.742188   9427.07\n",
       "4     9351.343750   9697.72\n",
       "..            ...       ...\n",
       "245  29646.033203  32467.77\n",
       "246  29861.964844  30366.15\n",
       "247  27442.869141  33364.86\n",
       "248  31113.031250  34252.20\n",
       "249  31885.333984  34218.54\n",
       "\n",
       "[250 rows x 2 columns]"
      ]
     },
     "execution_count": 38,
     "metadata": {},
     "output_type": "execute_result"
    }
   ],
   "source": [
    "preds_acts = pd.DataFrame(data={'Predictions':predictions.flatten(), 'Actuals':y_test.flatten()})\n",
    "preds_acts"
   ]
  },
  {
   "cell_type": "code",
   "execution_count": 39,
   "id": "22ce8446",
   "metadata": {},
   "outputs": [
    {
     "data": {
      "image/png": "[encoded data removed]",
      "text/plain": [
       "<Figure size 1152x432 with 1 Axes>"
      ]
     },
     "metadata": {},
     "output_type": "display_data"
    }
   ],
   "source": [
    "plt.figure(figsize = (16, 6))\n",
    "plt.plot(preds_acts['Predictions'])\n",
    "plt.plot(preds_acts['Actuals'])\n",
    "plt.legend(['Predictions', 'Actuals'])\n",
    "plt.show()"
   ]
  },
  {
   "cell_type": "code",
   "execution_count": 40,
   "id": "ba087679",
   "metadata": {},
   "outputs": [
    {
     "data": {
      "text/plain": [
       "<matplotlib.legend.Legend at 0x1dd6ba69700>"
      ]
     },
     "execution_count": 40,
     "metadata": {},
     "output_type": "execute_result"
    },
    {
     "data": {
      "image/png": "[encoded data removed]",
      "text/plain": [
       "<Figure size 1152x432 with 1 Axes>"
      ]
     },
     "metadata": {},
     "output_type": "display_data"
    }
   ],
   "source": [
    "train = dataset.iloc[:train_size , 0:1]\n",
    "test = dataset.iloc[train_size: , 0:1]\n",
    "test['Predictions'] = predictions\n",
    "\n",
    "plt.figure(figsize= (16, 6))\n",
    "plt.title('Salaries Prediction', fontsize= 18)\n",
    "plt.xlabel('Date', fontsize= 18)\n",
    "plt.ylabel('Salary Price', fontsize= 18)\n",
    "plt.plot(train['close_USD'], linewidth= 3)\n",
    "plt.plot(test['close_USD'], linewidth= 3)\n",
    "plt.plot(test[\"Predictions\"], linewidth= 3)\n",
    "plt.legend(['Train', 'Test', 'Predictions'])"
   ]
  },
  {
   "cell_type": "markdown",
   "id": "90c8780f",
   "metadata": {},
   "source": [
    "### Multivariate Predection"
   ]
  },
  {
   "cell_type": "code",
   "execution_count": 41,
   "id": "c430c63d",
   "metadata": {},
   "outputs": [
    {
     "data": {
      "text/html": [
       "<div>\n",
       "<style scoped>\n",
       "    .dataframe tbody tr th:only-of-type {\n",
       "        vertical-align: middle;\n",
       "    }\n",
       "\n",
       "    .dataframe tbody tr th {\n",
       "        vertical-align: top;\n",
       "    }\n",
       "\n",
       "    .dataframe thead th {\n",
       "        text-align: right;\n",
       "    }\n",
       "</style>\n",
       "<table border=\"1\" class=\"dataframe\">\n",
       "  <thead>\n",
       "    <tr style=\"text-align: right;\">\n",
       "      <th></th>\n",
       "      <th>open_SAR</th>\n",
       "      <th>open_USD</th>\n",
       "      <th>high_SAR</th>\n",
       "      <th>high_USD</th>\n",
       "      <th>low_SAR</th>\n",
       "      <th>low_USD</th>\n",
       "      <th>close_SAR</th>\n",
       "      <th>close_USD</th>\n",
       "      <th>volume</th>\n",
       "    </tr>\n",
       "    <tr>\n",
       "      <th>Unnamed: 0</th>\n",
       "      <th></th>\n",
       "      <th></th>\n",
       "      <th></th>\n",
       "      <th></th>\n",
       "      <th></th>\n",
       "      <th></th>\n",
       "      <th></th>\n",
       "      <th></th>\n",
       "      <th></th>\n",
       "    </tr>\n",
       "  </thead>\n",
       "  <tbody>\n",
       "    <tr>\n",
       "      <th>2018-05-07</th>\n",
       "      <td>36232.689408</td>\n",
       "      <td>9661.02</td>\n",
       "      <td>36340.138368</td>\n",
       "      <td>9689.67</td>\n",
       "      <td>34432.422400</td>\n",
       "      <td>9181.00</td>\n",
       "      <td>35122.496000</td>\n",
       "      <td>9365.00</td>\n",
       "      <td>33787</td>\n",
       "    </tr>\n",
       "    <tr>\n",
       "      <th>2018-05-08</th>\n",
       "      <td>35122.496000</td>\n",
       "      <td>9365.00</td>\n",
       "      <td>35537.665280</td>\n",
       "      <td>9475.70</td>\n",
       "      <td>33980.649216</td>\n",
       "      <td>9060.54</td>\n",
       "      <td>34457.025024</td>\n",
       "      <td>9187.56</td>\n",
       "      <td>25533</td>\n",
       "    </tr>\n",
       "    <tr>\n",
       "      <th>2018-05-09</th>\n",
       "      <td>34421.171200</td>\n",
       "      <td>9178.00</td>\n",
       "      <td>35216.256000</td>\n",
       "      <td>9390.00</td>\n",
       "      <td>33622.336000</td>\n",
       "      <td>8965.00</td>\n",
       "      <td>34916.224000</td>\n",
       "      <td>9310.00</td>\n",
       "      <td>25673</td>\n",
       "    </tr>\n",
       "    <tr>\n",
       "      <th>2018-05-10</th>\n",
       "      <td>34916.224000</td>\n",
       "      <td>9310.00</td>\n",
       "      <td>35235.458048</td>\n",
       "      <td>9395.12</td>\n",
       "      <td>33641.088000</td>\n",
       "      <td>8970.00</td>\n",
       "      <td>33761.850880</td>\n",
       "      <td>9002.20</td>\n",
       "      <td>25055</td>\n",
       "    </tr>\n",
       "    <tr>\n",
       "      <th>2018-05-11</th>\n",
       "      <td>33761.888384</td>\n",
       "      <td>9002.21</td>\n",
       "      <td>33816.606720</td>\n",
       "      <td>9016.80</td>\n",
       "      <td>31282.086400</td>\n",
       "      <td>8341.00</td>\n",
       "      <td>31503.360000</td>\n",
       "      <td>8400.00</td>\n",
       "      <td>48227</td>\n",
       "    </tr>\n",
       "  </tbody>\n",
       "</table>\n",
       "</div>"
      ],
      "text/plain": [
       "                open_SAR  open_USD      high_SAR  high_USD       low_SAR  \\\n",
       "Unnamed: 0                                                                 \n",
       "2018-05-07  36232.689408   9661.02  36340.138368   9689.67  34432.422400   \n",
       "2018-05-08  35122.496000   9365.00  35537.665280   9475.70  33980.649216   \n",
       "2018-05-09  34421.171200   9178.00  35216.256000   9390.00  33622.336000   \n",
       "2018-05-10  34916.224000   9310.00  35235.458048   9395.12  33641.088000   \n",
       "2018-05-11  33761.888384   9002.21  33816.606720   9016.80  31282.086400   \n",
       "\n",
       "            low_USD     close_SAR  close_USD  volume  \n",
       "Unnamed: 0                                            \n",
       "2018-05-07  9181.00  35122.496000    9365.00   33787  \n",
       "2018-05-08  9060.54  34457.025024    9187.56   25533  \n",
       "2018-05-09  8965.00  34916.224000    9310.00   25673  \n",
       "2018-05-10  8970.00  33761.850880    9002.20   25055  \n",
       "2018-05-11  8341.00  31503.360000    8400.00   48227  "
      ]
     },
     "execution_count": 41,
     "metadata": {},
     "output_type": "execute_result"
    }
   ],
   "source": [
    "df.head()"
   ]
  },
  {
   "cell_type": "markdown",
   "id": "418d7681",
   "metadata": {},
   "source": [
    "### Chose Columns"
   ]
  },
  {
   "cell_type": "code",
   "execution_count": 42,
   "id": "d7c06898",
   "metadata": {},
   "outputs": [
    {
     "data": {
      "text/plain": [
       "(1000, 5)"
      ]
     },
     "execution_count": 42,
     "metadata": {},
     "output_type": "execute_result"
    }
   ],
   "source": [
    "n_cols = 4\n",
    "cols = list(df.loc[:, ['open_USD', 'high_USD', 'low_USD', 'close_USD', 'volume']])\n",
    "dataset = df[cols]\n",
    "dataset = pd.DataFrame(dataset)\n",
    "data = dataset.values\n",
    "\n",
    "data.shape"
   ]
  },
  {
   "cell_type": "markdown",
   "id": "44cf276c",
   "metadata": {},
   "source": [
    "### Data Normalization"
   ]
  },
  {
   "cell_type": "code",
   "execution_count": null,
   "id": "2b6a45b0",
   "metadata": {},
   "outputs": [],
   "source": [
    "from sklearn.preprocessing import MinMaxScaler\n",
    "scaler = MinMaxScaler(feature_range= (0, 1))\n",
    "scaled_data = scaler.fit_transform(np.array(data))"
   ]
  },
  {
   "cell_type": "code",
   "execution_count": 44,
   "id": "4a7debf8",
   "metadata": {},
   "outputs": [
    {
     "name": "stdout",
     "output_type": "stream",
     "text": [
      "Train Size : 750 Test Size : 250\n"
     ]
    }
   ],
   "source": [
    "train_size = int(len(data) * 0.75)\n",
    "test_size = len(data) - train_size\n",
    "print(\"Train Size :\",train_size,\"Test Size :\",test_size)"
   ]
  },
  {
   "cell_type": "code",
   "execution_count": 45,
   "id": "fef7989f",
   "metadata": {},
   "outputs": [
    {
     "data": {
      "text/plain": [
       "(750, 5)"
      ]
     },
     "execution_count": 45,
     "metadata": {},
     "output_type": "execute_result"
    }
   ],
   "source": [
    "train_data = scaled_data[0:train_size, :]\n",
    "train_data.shape"
   ]
  },
  {
   "cell_type": "code",
   "execution_count": 46,
   "id": "2a35f7a2",
   "metadata": {},
   "outputs": [
    {
     "name": "stdout",
     "output_type": "stream",
     "text": [
      "X_train:  [array([[0.17255564, 0.16582854, 0.16940682, 0.16465348, 0.07073637],\n",
      "       [0.16463542, 0.16029581, 0.16601966, 0.15990542, 0.04991702],\n",
      "       [0.15963211, 0.15807982, 0.16333322, 0.16318175, 0.05027014],\n",
      "       [0.16316386, 0.15821221, 0.16347381, 0.15494544, 0.04871134],\n",
      "       [0.15492873, 0.1484298 , 0.14578725, 0.13883138, 0.10715889],\n",
      "       [0.13897512, 0.1388646 , 0.14050097, 0.14059585, 0.08701552],\n",
      "       [0.14083464, 0.14187648, 0.14457816, 0.14631604, 0.05016673],\n",
      "       [0.14630002, 0.14489224, 0.14398767, 0.145878  , 0.07982182],\n",
      "       [0.14586284, 0.14437509, 0.1474828 , 0.14049042, 0.05645743],\n",
      "       [0.14047505, 0.13475636, 0.13853296, 0.13695827, 0.06403453],\n",
      "       [0.1369433 , 0.13413578, 0.13560835, 0.12923733, 0.04967992],\n",
      "       [0.12915258, 0.12920243, 0.13372159, 0.13454491, 0.04472857],\n",
      "       [0.13448204, 0.13224301, 0.13889062, 0.1343758 , 0.02888074],\n",
      "       [0.13436111, 0.13788512, 0.14080746, 0.14222919, 0.03585247],\n",
      "       [0.14221336, 0.13753113, 0.14477499, 0.13832939, 0.03978479],\n",
      "       [0.13846543, 0.13248555, 0.13437422, 0.12751541, 0.0453188 ],\n",
      "       [0.12750176, 0.12296275, 0.12003068, 0.11480077, 0.09374764],\n",
      "       [0.11478826, 0.11517525, 0.11558767, 0.11675576, 0.08097201],\n",
      "       [0.11684952, 0.11307614, 0.11674503, 0.11359797, 0.05295895],\n",
      "       [0.11358533, 0.11231205, 0.11651587, 0.11030559, 0.03460896],\n",
      "       [0.11029465, 0.1066234 , 0.11457878, 0.11044018, 0.03269703],\n",
      "       [0.11042816, 0.10758013, 0.10971175, 0.10401837, 0.05416967],\n",
      "       [0.10400706, 0.11024345, 0.10900681, 0.11371277, 0.08491189],\n",
      "       [0.11387937, 0.11099332, 0.11540519, 0.11142945, 0.06633237],\n",
      "       [0.11158079, 0.11435479, 0.11728941, 0.11434748, 0.06314162],\n",
      "       [0.11433502, 0.11201598, 0.11807757, 0.11531079, 0.0567929 ],\n",
      "       [0.11529823, 0.11431161, 0.12036811, 0.11849561, 0.05291103],\n",
      "       [0.11839653, 0.11662223, 0.12495143, 0.1204819 , 0.05489106],\n",
      "       [0.12046876, 0.11594554, 0.12063523, 0.11440073, 0.06687972],\n",
      "       [0.11438826, 0.11385031, 0.11814674, 0.11809342, 0.06552775],\n",
      "       [0.11812443, 0.11435479, 0.12121307, 0.11899894, 0.0541949 ],\n",
      "       [0.11898462, 0.11606139, 0.1255138 , 0.11986164, 0.048729  ],\n",
      "       [0.11984856, 0.11447115, 0.12301125, 0.11751651, 0.04452678],\n",
      "       [0.1175037 , 0.11396641, 0.12073365, 0.1145273 , 0.03429367],\n",
      "       [0.11451482, 0.10899531, 0.09747428, 0.09508072, 0.1175383 ],\n",
      "       [0.09507067, 0.09426351, 0.09711408, 0.09794416, 0.07266596],\n",
      "       [0.09793353, 0.09344926, 0.09219334, 0.0887927 , 0.07813942],\n",
      "       [0.08878309, 0.08665107, 0.08329889, 0.08244501, 0.10200828],\n",
      "       [0.0824361 , 0.0890403 , 0.0872726 , 0.09162858, 0.09770266],\n",
      "       [0.09169062, 0.08766106, 0.0901494 , 0.08501705, 0.06122969],\n",
      "       [0.08477   , 0.0849031 , 0.08898389, 0.08756127, 0.04170429],\n",
      "       [0.08751219, 0.08565374, 0.0918278 , 0.08664157, 0.03557502],\n",
      "       [0.0864837 , 0.09096358, 0.09064682, 0.09367508, 0.06577746],\n",
      "       [0.0936363 , 0.09218819, 0.09832318, 0.0944444 , 0.04683472],\n",
      "       [0.09440178, 0.09155442, 0.09547787, 0.0949876 , 0.05200046],\n",
      "       [0.09502278, 0.09097961, 0.09887346, 0.0938458 , 0.04965217],\n",
      "       [0.09380486, 0.08940153, 0.07768249, 0.07581475, 0.11707167],\n",
      "       [0.0758312 , 0.07714585, 0.08020023, 0.07862388, 0.05266384],\n",
      "       [0.07861539, 0.07714068, 0.07293215, 0.07827575, 0.10518643],\n",
      "       [0.07829352, 0.07947302, 0.08170429, 0.0813538 , 0.08429897],\n",
      "       [0.08134501, 0.0774701 , 0.08094593, 0.07650459, 0.03438952],\n",
      "       [0.07636551, 0.07534694, 0.07914634, 0.07818905, 0.03400612],\n",
      "       [0.07820737, 0.07489651, 0.07509728, 0.07070332, 0.06265985],\n",
      "       [0.07061625, 0.07818015, 0.07377571, 0.07990669, 0.07104914],\n",
      "       [0.07989806, 0.08410126, 0.08519267, 0.08504836, 0.08115866],\n",
      "       [0.08506619, 0.08182761, 0.08701953, 0.08415837, 0.05503483],\n",
      "       [0.08425656, 0.08813529, 0.08759934, 0.09107495, 0.07689844],\n",
      "       [0.09106508, 0.08798919, 0.09298094, 0.08836082, 0.08302014],\n",
      "       [0.08827499, 0.09071897, 0.09236514, 0.09031741, 0.04496819],\n",
      "       [0.09026883, 0.08883344, 0.09270875, 0.08877129, 0.07397505]])]\n",
      "y_train: [array([0.08876168, 0.08719252, 0.09191216, 0.09092751, 0.05966332])]\n"
     ]
    }
   ],
   "source": [
    "# Creating a Training set with 60 time-steps\n",
    "x_train = []\n",
    "y_train = []\n",
    "time_steps = 60\n",
    "n_cols = 5\n",
    "\n",
    "for i in range(time_steps, len(train_data)):\n",
    "    x_train.append(train_data[i-time_steps:i, :n_cols])\n",
    "    y_train.append(train_data[i, :n_cols])\n",
    "    if i<=time_steps:\n",
    "        print('X_train: ', x_train)\n",
    "        print('y_train:' , y_train)"
   ]
  },
  {
   "cell_type": "code",
   "execution_count": 47,
   "id": "c8b6e010",
   "metadata": {},
   "outputs": [],
   "source": [
    "# Convert to numpy array\n",
    "x_train, y_train = np.array(x_train), np.array(y_train)"
   ]
  },
  {
   "cell_type": "code",
   "execution_count": 48,
   "id": "c401d55d",
   "metadata": {},
   "outputs": [],
   "source": [
    "# Reshaping the input to (n_samples, time_steps, n_feature)\n",
    "x_train = np.reshape(x_train, (x_train.shape[0], x_train.shape[1], n_cols))"
   ]
  },
  {
   "cell_type": "code",
   "execution_count": 49,
   "id": "51238e77",
   "metadata": {},
   "outputs": [
    {
     "data": {
      "text/plain": [
       "((690, 60, 5), (690, 5))"
      ]
     },
     "execution_count": 49,
     "metadata": {},
     "output_type": "execute_result"
    }
   ],
   "source": [
    "x_train.shape , y_train.shape"
   ]
  },
  {
   "cell_type": "code",
   "execution_count": 50,
   "id": "3c7305bb",
   "metadata": {},
   "outputs": [],
   "source": [
    "model2 = Sequential([\n",
    "    LSTM(50, return_sequences= True, input_shape= (x_train.shape[1], n_cols)),\n",
    "    LSTM(64, return_sequences= False),\n",
    "    Dense(32),\n",
    "    Dense(16),\n",
    "    Dense(n_cols)\n",
    "])\n",
    "\n",
    "model2.compile(optimizer= 'adam', loss= 'mse' , metrics= \"mean_absolute_error\")"
   ]
  },
  {
   "cell_type": "code",
   "execution_count": 51,
   "id": "ec76efd2",
   "metadata": {},
   "outputs": [
    {
     "name": "stdout",
     "output_type": "stream",
     "text": [
      "Model: \"sequential_1\"\n",
      "_________________________________________________________________\n",
      " Layer (type)                Output Shape              Param #   \n",
      "=================================================================\n",
      " lstm_2 (LSTM)               (None, 60, 50)            11200     \n",
      "                                                                 \n",
      " lstm_3 (LSTM)               (None, 64)                29440     \n",
      "                                                                 \n",
      " dense_3 (Dense)             (None, 32)                2080      \n",
      "                                                                 \n",
      " dense_4 (Dense)             (None, 16)                528       \n",
      "                                                                 \n",
      " dense_5 (Dense)             (None, 5)                 85        \n",
      "                                                                 \n",
      "=================================================================\n",
      "Total params: 43,333\n",
      "Trainable params: 43,333\n",
      "Non-trainable params: 0\n",
      "_________________________________________________________________\n"
     ]
    }
   ],
   "source": [
    "model2.summary()"
   ]
  },
  {
   "cell_type": "code",
   "execution_count": 52,
   "id": "0a772e2a",
   "metadata": {},
   "outputs": [
    {
     "name": "stdout",
     "output_type": "stream",
     "text": [
      "Epoch 1/100\n",
      "22/22 [==============================] - 5s 52ms/step - loss: 0.0049 - mean_absolute_error: 0.0483\n",
      "Epoch 2/100\n",
      "22/22 [==============================] - 2s 87ms/step - loss: 0.0017 - mean_absolute_error: 0.0252\n",
      "Epoch 3/100\n",
      "22/22 [==============================] - 3s 116ms/step - loss: 0.0013 - mean_absolute_error: 0.0201\n",
      "Epoch 4/100\n",
      "22/22 [==============================] - 2s 100ms/step - loss: 0.0012 - mean_absolute_error: 0.0186\n",
      "Epoch 5/100\n",
      "22/22 [==============================] - 2s 106ms/step - loss: 0.0012 - mean_absolute_error: 0.0188\n",
      "Epoch 6/100\n",
      "22/22 [==============================] - 2s 82ms/step - loss: 0.0012 - mean_absolute_error: 0.0184\n",
      "Epoch 7/100\n",
      "22/22 [==============================] - 2s 73ms/step - loss: 0.0012 - mean_absolute_error: 0.0185\n",
      "Epoch 8/100\n",
      "22/22 [==============================] - 1s 68ms/step - loss: 0.0011 - mean_absolute_error: 0.0175\n",
      "Epoch 9/100\n",
      "22/22 [==============================] - 2s 72ms/step - loss: 0.0011 - mean_absolute_error: 0.0170\n",
      "Epoch 10/100\n",
      "22/22 [==============================] - 2s 77ms/step - loss: 0.0011 - mean_absolute_error: 0.0169\n",
      "Epoch 11/100\n",
      "22/22 [==============================] - 2s 83ms/step - loss: 0.0011 - mean_absolute_error: 0.0168\n",
      "Epoch 12/100\n",
      "22/22 [==============================] - 2s 75ms/step - loss: 0.0011 - mean_absolute_error: 0.0162\n",
      "Epoch 13/100\n",
      "22/22 [==============================] - 2s 73ms/step - loss: 0.0011 - mean_absolute_error: 0.0168\n",
      "Epoch 14/100\n",
      "22/22 [==============================] - 1s 60ms/step - loss: 0.0011 - mean_absolute_error: 0.0163\n",
      "Epoch 15/100\n",
      "22/22 [==============================] - 1s 61ms/step - loss: 0.0011 - mean_absolute_error: 0.0159\n",
      "Epoch 16/100\n",
      "22/22 [==============================] - 1s 59ms/step - loss: 0.0010 - mean_absolute_error: 0.0160\n",
      "Epoch 17/100\n",
      "22/22 [==============================] - 1s 62ms/step - loss: 0.0010 - mean_absolute_error: 0.0158\n",
      "Epoch 18/100\n",
      "22/22 [==============================] - 1s 60ms/step - loss: 9.9730e-04 - mean_absolute_error: 0.0154\n",
      "Epoch 19/100\n",
      "22/22 [==============================] - 2s 71ms/step - loss: 0.0010 - mean_absolute_error: 0.0160\n",
      "Epoch 20/100\n",
      "22/22 [==============================] - 1s 60ms/step - loss: 0.0010 - mean_absolute_error: 0.0164\n",
      "Epoch 21/100\n",
      "22/22 [==============================] - 1s 59ms/step - loss: 0.0010 - mean_absolute_error: 0.0158\n",
      "Epoch 22/100\n",
      "22/22 [==============================] - 1s 65ms/step - loss: 9.8228e-04 - mean_absolute_error: 0.0155\n",
      "Epoch 23/100\n",
      "22/22 [==============================] - 1s 62ms/step - loss: 9.8347e-04 - mean_absolute_error: 0.0150\n",
      "Epoch 24/100\n",
      "22/22 [==============================] - 1s 59ms/step - loss: 9.6009e-04 - mean_absolute_error: 0.0149\n",
      "Epoch 25/100\n",
      "22/22 [==============================] - 1s 60ms/step - loss: 9.7385e-04 - mean_absolute_error: 0.0149\n",
      "Epoch 26/100\n",
      "22/22 [==============================] - 1s 61ms/step - loss: 9.6755e-04 - mean_absolute_error: 0.0146\n",
      "Epoch 27/100\n",
      "22/22 [==============================] - 1s 60ms/step - loss: 9.5966e-04 - mean_absolute_error: 0.0152\n",
      "Epoch 28/100\n",
      "22/22 [==============================] - 1s 60ms/step - loss: 9.3926e-04 - mean_absolute_error: 0.0142\n",
      "Epoch 29/100\n",
      "22/22 [==============================] - 1s 59ms/step - loss: 9.3756e-04 - mean_absolute_error: 0.0146\n",
      "Epoch 30/100\n",
      "22/22 [==============================] - 1s 60ms/step - loss: 9.4606e-04 - mean_absolute_error: 0.0146\n",
      "Epoch 31/100\n",
      "22/22 [==============================] - 1s 59ms/step - loss: 9.3319e-04 - mean_absolute_error: 0.0139\n",
      "Epoch 32/100\n",
      "22/22 [==============================] - 1s 59ms/step - loss: 9.2045e-04 - mean_absolute_error: 0.0139\n",
      "Epoch 33/100\n",
      "22/22 [==============================] - 2s 69ms/step - loss: 9.4032e-04 - mean_absolute_error: 0.0141\n",
      "Epoch 34/100\n",
      "22/22 [==============================] - 1s 61ms/step - loss: 9.5368e-04 - mean_absolute_error: 0.0145\n",
      "Epoch 35/100\n",
      "22/22 [==============================] - 1s 62ms/step - loss: 9.6595e-04 - mean_absolute_error: 0.0141\n",
      "Epoch 36/100\n",
      "22/22 [==============================] - 1s 62ms/step - loss: 9.5044e-04 - mean_absolute_error: 0.0146\n",
      "Epoch 37/100\n",
      "22/22 [==============================] - 1s 62ms/step - loss: 9.4776e-04 - mean_absolute_error: 0.0139\n",
      "Epoch 38/100\n",
      "22/22 [==============================] - 1s 61ms/step - loss: 9.2547e-04 - mean_absolute_error: 0.0140\n",
      "Epoch 39/100\n",
      "22/22 [==============================] - 1s 63ms/step - loss: 9.0198e-04 - mean_absolute_error: 0.0135\n",
      "Epoch 40/100\n",
      "22/22 [==============================] - 1s 61ms/step - loss: 9.4075e-04 - mean_absolute_error: 0.0135\n",
      "Epoch 41/100\n",
      "22/22 [==============================] - 1s 63ms/step - loss: 9.9212e-04 - mean_absolute_error: 0.0150\n",
      "Epoch 42/100\n",
      "22/22 [==============================] - 1s 62ms/step - loss: 9.0213e-04 - mean_absolute_error: 0.0135\n",
      "Epoch 43/100\n",
      "22/22 [==============================] - 1s 64ms/step - loss: 9.0000e-04 - mean_absolute_error: 0.0133\n",
      "Epoch 44/100\n",
      "22/22 [==============================] - 2s 69ms/step - loss: 8.9271e-04 - mean_absolute_error: 0.0135\n",
      "Epoch 45/100\n",
      "22/22 [==============================] - 2s 73ms/step - loss: 9.0330e-04 - mean_absolute_error: 0.0137\n",
      "Epoch 46/100\n",
      "22/22 [==============================] - 1s 66ms/step - loss: 9.1139e-04 - mean_absolute_error: 0.0138\n",
      "Epoch 47/100\n",
      "22/22 [==============================] - 2s 89ms/step - loss: 9.0531e-04 - mean_absolute_error: 0.0135\n",
      "Epoch 48/100\n",
      "22/22 [==============================] - 2s 85ms/step - loss: 9.2282e-04 - mean_absolute_error: 0.0134\n",
      "Epoch 49/100\n",
      "22/22 [==============================] - 2s 82ms/step - loss: 8.8588e-04 - mean_absolute_error: 0.0130\n",
      "Epoch 50/100\n",
      "22/22 [==============================] - 2s 94ms/step - loss: 8.9929e-04 - mean_absolute_error: 0.0134\n",
      "Epoch 51/100\n",
      "22/22 [==============================] - 2s 71ms/step - loss: 8.7888e-04 - mean_absolute_error: 0.0135\n",
      "Epoch 52/100\n",
      "22/22 [==============================] - 2s 84ms/step - loss: 8.7184e-04 - mean_absolute_error: 0.0129\n",
      "Epoch 53/100\n",
      "22/22 [==============================] - 2s 94ms/step - loss: 8.7248e-04 - mean_absolute_error: 0.0133\n",
      "Epoch 54/100\n",
      "22/22 [==============================] - 2s 84ms/step - loss: 8.6755e-04 - mean_absolute_error: 0.0126\n",
      "Epoch 55/100\n",
      "22/22 [==============================] - 2s 77ms/step - loss: 8.5695e-04 - mean_absolute_error: 0.0125\n",
      "Epoch 56/100\n",
      "22/22 [==============================] - 2s 77ms/step - loss: 8.7974e-04 - mean_absolute_error: 0.0127\n",
      "Epoch 57/100\n",
      "22/22 [==============================] - 2s 75ms/step - loss: 8.5138e-04 - mean_absolute_error: 0.0124\n",
      "Epoch 58/100\n",
      "22/22 [==============================] - 1s 67ms/step - loss: 8.4250e-04 - mean_absolute_error: 0.0123\n",
      "Epoch 59/100\n",
      "22/22 [==============================] - 2s 76ms/step - loss: 8.4116e-04 - mean_absolute_error: 0.0122\n",
      "Epoch 60/100\n",
      "22/22 [==============================] - 2s 82ms/step - loss: 8.5189e-04 - mean_absolute_error: 0.0124\n",
      "Epoch 61/100\n",
      "22/22 [==============================] - 2s 78ms/step - loss: 8.5965e-04 - mean_absolute_error: 0.0129\n",
      "Epoch 62/100\n",
      "22/22 [==============================] - 2s 73ms/step - loss: 8.6541e-04 - mean_absolute_error: 0.0126\n",
      "Epoch 63/100\n",
      "22/22 [==============================] - 2s 77ms/step - loss: 8.3072e-04 - mean_absolute_error: 0.0126\n",
      "Epoch 64/100\n",
      "22/22 [==============================] - 2s 75ms/step - loss: 8.2791e-04 - mean_absolute_error: 0.0120\n",
      "Epoch 65/100\n",
      "22/22 [==============================] - 2s 75ms/step - loss: 8.1790e-04 - mean_absolute_error: 0.0121\n",
      "Epoch 66/100\n",
      "22/22 [==============================] - 2s 70ms/step - loss: 8.1684e-04 - mean_absolute_error: 0.0124\n",
      "Epoch 67/100\n",
      "22/22 [==============================] - 1s 64ms/step - loss: 8.3408e-04 - mean_absolute_error: 0.0122\n",
      "Epoch 68/100\n",
      "22/22 [==============================] - 1s 61ms/step - loss: 8.5575e-04 - mean_absolute_error: 0.0127\n",
      "Epoch 69/100\n",
      "22/22 [==============================] - 1s 60ms/step - loss: 8.3528e-04 - mean_absolute_error: 0.0121\n",
      "Epoch 70/100\n",
      "22/22 [==============================] - 1s 59ms/step - loss: 7.9248e-04 - mean_absolute_error: 0.0121\n",
      "Epoch 71/100\n",
      "22/22 [==============================] - 1s 64ms/step - loss: 7.7835e-04 - mean_absolute_error: 0.0120\n",
      "Epoch 72/100\n"
     ]
    },
    {
     "name": "stdout",
     "output_type": "stream",
     "text": [
      "22/22 [==============================] - 3s 125ms/step - loss: 7.6096e-04 - mean_absolute_error: 0.0113\n",
      "Epoch 73/100\n",
      "22/22 [==============================] - 2s 70ms/step - loss: 7.6858e-04 - mean_absolute_error: 0.0119\n",
      "Epoch 74/100\n",
      "22/22 [==============================] - 2s 83ms/step - loss: 7.5314e-04 - mean_absolute_error: 0.0117\n",
      "Epoch 75/100\n",
      "22/22 [==============================] - 1s 63ms/step - loss: 7.3739e-04 - mean_absolute_error: 0.0119\n",
      "Epoch 76/100\n",
      "22/22 [==============================] - 2s 79ms/step - loss: 7.3799e-04 - mean_absolute_error: 0.0115\n",
      "Epoch 77/100\n",
      "22/22 [==============================] - 1s 62ms/step - loss: 7.1594e-04 - mean_absolute_error: 0.0116\n",
      "Epoch 78/100\n",
      "22/22 [==============================] - 1s 59ms/step - loss: 7.2349e-04 - mean_absolute_error: 0.0116\n",
      "Epoch 79/100\n",
      "22/22 [==============================] - 1s 59ms/step - loss: 7.3521e-04 - mean_absolute_error: 0.0116\n",
      "Epoch 80/100\n",
      "22/22 [==============================] - 1s 60ms/step - loss: 7.3295e-04 - mean_absolute_error: 0.0118\n",
      "Epoch 81/100\n",
      "22/22 [==============================] - 1s 66ms/step - loss: 7.2225e-04 - mean_absolute_error: 0.0118\n",
      "Epoch 82/100\n",
      "22/22 [==============================] - 1s 60ms/step - loss: 7.3337e-04 - mean_absolute_error: 0.0117\n",
      "Epoch 83/100\n",
      "22/22 [==============================] - 1s 67ms/step - loss: 7.0012e-04 - mean_absolute_error: 0.0114\n",
      "Epoch 84/100\n",
      "22/22 [==============================] - 1s 57ms/step - loss: 6.8949e-04 - mean_absolute_error: 0.0110\n",
      "Epoch 85/100\n",
      "22/22 [==============================] - 1s 64ms/step - loss: 6.9771e-04 - mean_absolute_error: 0.0109\n",
      "Epoch 86/100\n",
      "22/22 [==============================] - 2s 83ms/step - loss: 6.8389e-04 - mean_absolute_error: 0.0109\n",
      "Epoch 87/100\n",
      "22/22 [==============================] - 1s 63ms/step - loss: 6.8042e-04 - mean_absolute_error: 0.0112\n",
      "Epoch 88/100\n",
      "22/22 [==============================] - 2s 71ms/step - loss: 6.7083e-04 - mean_absolute_error: 0.0110\n",
      "Epoch 89/100\n",
      "22/22 [==============================] - 2s 78ms/step - loss: 6.9733e-04 - mean_absolute_error: 0.0112\n",
      "Epoch 90/100\n",
      "22/22 [==============================] - 1s 65ms/step - loss: 6.8171e-04 - mean_absolute_error: 0.0114\n",
      "Epoch 91/100\n",
      "22/22 [==============================] - 1s 63ms/step - loss: 6.7858e-04 - mean_absolute_error: 0.0112\n",
      "Epoch 92/100\n",
      "22/22 [==============================] - 1s 58ms/step - loss: 6.6644e-04 - mean_absolute_error: 0.0109\n",
      "Epoch 93/100\n",
      "22/22 [==============================] - 1s 58ms/step - loss: 6.6489e-04 - mean_absolute_error: 0.0108\n",
      "Epoch 94/100\n",
      "22/22 [==============================] - 1s 59ms/step - loss: 6.6787e-04 - mean_absolute_error: 0.0105\n",
      "Epoch 95/100\n",
      "22/22 [==============================] - 1s 62ms/step - loss: 6.6373e-04 - mean_absolute_error: 0.0108\n",
      "Epoch 96/100\n",
      "22/22 [==============================] - 1s 60ms/step - loss: 6.7698e-04 - mean_absolute_error: 0.0112\n",
      "Epoch 97/100\n",
      "22/22 [==============================] - 1s 63ms/step - loss: 6.8182e-04 - mean_absolute_error: 0.0106\n",
      "Epoch 98/100\n",
      "22/22 [==============================] - 1s 60ms/step - loss: 6.8709e-04 - mean_absolute_error: 0.0109\n",
      "Epoch 99/100\n",
      "22/22 [==============================] - 1s 60ms/step - loss: 6.4722e-04 - mean_absolute_error: 0.0105\n",
      "Epoch 100/100\n",
      "22/22 [==============================] - 1s 59ms/step - loss: 6.5098e-04 - mean_absolute_error: 0.0107\n"
     ]
    }
   ],
   "source": [
    "# Fitting the LSTM to the Training set\n",
    "history2 = model2.fit(x_train, y_train, epochs= 100, batch_size= 32)"
   ]
  },
  {
   "cell_type": "code",
   "execution_count": 53,
   "id": "5dbe4f08",
   "metadata": {},
   "outputs": [
    {
     "data": {
      "image/png": "[encoded data removed]",
      "text/plain": [
       "<Figure size 864x576 with 1 Axes>"
      ]
     },
     "metadata": {},
     "output_type": "display_data"
    }
   ],
   "source": [
    "plt.figure(figsize=(12, 8))\n",
    "plt.plot(history2.history[\"loss\"])\n",
    "plt.plot(history2.history[\"mean_absolute_error\"])\n",
    "plt.legend(['Mean Squared Error','Mean Absolute Error'])\n",
    "plt.title(\"Losses\")\n",
    "plt.xlabel(\"epochs\")\n",
    "plt.ylabel(\"loss\")\n",
    "plt.show()"
   ]
  },
  {
   "cell_type": "markdown",
   "id": "40256cb6",
   "metadata": {},
   "source": [
    "### Prediction\n",
    "\n",
    "#### Creating testing set"
   ]
  },
  {
   "cell_type": "code",
   "execution_count": 54,
   "id": "5d37252f",
   "metadata": {},
   "outputs": [],
   "source": [
    "# Creating a testing set with 60 time-steps and 1 output\n",
    "time_steps = 60\n",
    "test_data = scaled_data[train_size - time_steps:, :]"
   ]
  },
  {
   "cell_type": "code",
   "execution_count": 55,
   "id": "059d3ade",
   "metadata": {},
   "outputs": [],
   "source": [
    "x_test = []\n",
    "y_test = []\n",
    "n_cols = 5\n",
    "\n",
    "for i in range(time_steps, len(test_data)):\n",
    "    x_test.append(test_data[i-time_steps:i, 0:n_cols])\n",
    "    y_test.append(test_data[i, 0:n_cols])\n",
    "x_test, y_test = np.array(x_test), np.array(y_test)\n",
    "x_test = np.reshape(x_test, (x_test.shape[0], x_test.shape[1], n_cols))"
   ]
  },
  {
   "cell_type": "code",
   "execution_count": 56,
   "id": "e508fb6a",
   "metadata": {},
   "outputs": [
    {
     "data": {
      "text/plain": [
       "((250, 60, 5), (250, 5))"
      ]
     },
     "execution_count": 56,
     "metadata": {},
     "output_type": "execute_result"
    }
   ],
   "source": [
    "x_test.shape , y_test.shape"
   ]
  },
  {
   "cell_type": "code",
   "execution_count": 57,
   "id": "227b8aca",
   "metadata": {},
   "outputs": [
    {
     "name": "stdout",
     "output_type": "stream",
     "text": [
      "8/8 [==============================] - 1s 13ms/step\n"
     ]
    }
   ],
   "source": [
    "# Get Prediction\n",
    "predictions = model2.predict(x_test)"
   ]
  },
  {
   "cell_type": "code",
   "execution_count": 58,
   "id": "5d64311e",
   "metadata": {},
   "outputs": [
    {
     "data": {
      "text/plain": [
       "(250, 5)"
      ]
     },
     "execution_count": 58,
     "metadata": {},
     "output_type": "execute_result"
    }
   ],
   "source": [
    "#inverse predictions scaling\n",
    "predictions = scaler.inverse_transform(predictions)\n",
    "predictions.shape"
   ]
  },
  {
   "cell_type": "code",
   "execution_count": 59,
   "id": "82024db1",
   "metadata": {},
   "outputs": [],
   "source": [
    "#inverse y_test scaling\n",
    "y_test = scaler.inverse_transform(y_test)"
   ]
  },
  {
   "cell_type": "code",
   "execution_count": 60,
   "id": "ba50ecc3",
   "metadata": {},
   "outputs": [
    {
     "data": {
      "text/plain": [
       "4179.38"
      ]
     },
     "execution_count": 60,
     "metadata": {},
     "output_type": "execute_result"
    }
   ],
   "source": [
    "RMSE = np.sqrt(np.mean( y_test - predictions )**2).round(2)\n",
    "RMSE"
   ]
  },
  {
   "cell_type": "code",
   "execution_count": null,
   "id": "98511be0",
   "metadata": {},
   "outputs": [],
   "source": []
  }
 ],
 "metadata": {
  "kernelspec": {
   "display_name": "Python 3",
   "language": "python",
   "name": "python3"
  },
  "language_info": {
   "codemirror_mode": {
    "name": "ipython",
    "version": 3
   },
   "file_extension": ".py",
   "mimetype": "text/x-python",
   "name": "python",
   "nbconvert_exporter": "python",
   "pygments_lexer": "ipython3",
   "version": "3.8.8"
  }
 },
 "nbformat": 4,
 "nbformat_minor": 5
}
